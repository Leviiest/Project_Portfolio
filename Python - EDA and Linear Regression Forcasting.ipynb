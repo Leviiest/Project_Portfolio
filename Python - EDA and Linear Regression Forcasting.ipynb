{
 "cells": [
  {
   "cell_type": "markdown",
   "id": "219e780a-4e36-4339-b429-83fc5c8aebba",
   "metadata": {
    "jp-MarkdownHeadingCollapsed": true
   },
   "source": [
    "# Forecasting Weekly Sales with Linear Regression"
   ]
  },
  {
   "cell_type": "markdown",
   "id": "e9928442-e881-4f69-a00e-cc40d2133740",
   "metadata": {
    "jp-MarkdownHeadingCollapsed": true
   },
   "source": [
    "<h1 style=\"color: white; padding: 10px; border-radius: 5px; background: linear-gradient(to right, #BBC4F9, #BBC4F9);\">Abstract</h1>"
   ]
  },
  {
   "attachments": {},
   "cell_type": "markdown",
   "id": "57c68fd4-ec4e-43c1-83b2-91effe06ef01",
   "metadata": {},
   "source": [
    "<div style=\"border: 4px solid; \n",
    "            padding: 20px; \n",
    "            border-radius: 10px;\n",
    "            border-image: linear-gradient(to right, #BBC4F9, #BBC4F9) 1;\">\n",
    "    <p><strong>Context:</strong> <br></br>\n",
    "The sales and marketing teams aim to enhance sales forecasting and customer engagement and have requested an analysis of how temperature influences weekly coffee sales, along with weekly insights into transaction and product category performance. To support this, the team has provided data from three of their stores located in different areas of New York, NY, covering weeks 1 through 26 of 2023.\n",
    "    </p>  \n",
    "    <br><br/>\n",
    "    <p>\n",
    "    <strong>Objectives:</strong>\n",
    "    </p>\n",
    "    <ul style=\"list-style-type: disc; padding-left: 20px; margin-top: 10px;\">\n",
    "        <li style=\"margin-bottom: 10px;\">Quantify how temperature influences weekly coffee sales.</li>\n",
    "        <li style=\"margin-bottom: 10px;\">Find weekly insights into transaction and product category performance.</li>\n",
    "    </ul>\n",
    "    <br/>\n",
    "</div>"
   ]
  },
  {
   "cell_type": "markdown",
   "id": "b240acd8-f0ec-481f-bb85-4b1c69f07064",
   "metadata": {
    "jp-MarkdownHeadingCollapsed": true
   },
   "source": [
    "<h1 style=\"color: white; padding: 10px; border-radius: 5px; background: linear-gradient(to right, #BBC4F9, #BBC4F9);\">Data Dictionary</h1>"
   ]
  },
  {
   "cell_type": "markdown",
   "id": "ad2ee066-6229-400c-9994-5a50325bfce8",
   "metadata": {},
   "source": [
    "|Variable|Description|Data Type|\n",
    "|-|-|:-:|\n",
    "|transaction_id|Unique identifier for each transaction.|`int`|\n",
    "|transaction_date|Date of the transaction.|`datetime`|\n",
    "|transaction_time|Time of the transaction.|`str`|\n",
    "|transaction_qty|Identifier for the store location.|`int`|\n",
    "|store_id|ID of the store.|`int`|\n",
    "|store_location|Location of the store.|`str`|\n",
    "|product_id|Unit number within the store.|`int`|\n",
    "|unit_price|Price of the product.|`float`|\n",
    "|product_category|Category of the product.|`str`|\n",
    "|product_type|Type of product within the category.|`str`|\n",
    "|product_detail|Specific name of the product.|`str`|\n"
   ]
  },
  {
   "cell_type": "markdown",
   "id": "999da525-8f87-46ed-baee-07fd25f548e9",
   "metadata": {
    "jp-MarkdownHeadingCollapsed": true
   },
   "source": [
    "<h1 style=\"color: white; padding: 10px; border-radius: 5px; background: linear-gradient(to right, #BBC4F9, #BBC4F9);\">Load Datasets</h1>"
   ]
  },
  {
   "cell_type": "markdown",
   "id": "ea944735-1f71-43d5-a98b-b709cd49860e",
   "metadata": {},
   "source": [
    "First load the operational and visualization packages that we'll use throughout the exploratory data analysis. Then, I will read the Coffee dataset from an `.xlsx` Excel file. Once the data is loaded, we will use the `.head( )` function to view the first three rows of the coffee dataframe. After that, we will check the datatype of each column in the coffee dataframe, as well as provide a quick check of the brief descriptive statistics for the numeric columns."
   ]
  },
  {
   "cell_type": "code",
   "execution_count": 1,
   "id": "993c9b79-7517-46cc-afd9-54fce6188734",
   "metadata": {},
   "outputs": [],
   "source": [
    "# Operational Packages\n",
    "import pandas as pd\n",
    "import numpy as np\n",
    "import datetime as dt\n",
    "from datetime import datetime\n",
    "\n",
    "# Viz Packages\n",
    "import matplotlib.pyplot as plt\n",
    "import seaborn as sns"
   ]
  },
  {
   "cell_type": "code",
   "execution_count": 2,
   "id": "61eb236f-4ac8-4da9-bc4f-59477e962ff2",
   "metadata": {},
   "outputs": [],
   "source": [
    "# Load the dataset from xslx file \n",
    "coffee_df = pd.read_excel('Coffee Shop Sales.xlsx', engine='openpyxl')"
   ]
  },
  {
   "cell_type": "code",
   "execution_count": 3,
   "id": "3da29ef3-c7a5-4ce5-ad1a-76ce55d6a34b",
   "metadata": {},
   "outputs": [
    {
     "data": {
      "text/html": [
       "<div>\n",
       "<style scoped>\n",
       "    .dataframe tbody tr th:only-of-type {\n",
       "        vertical-align: middle;\n",
       "    }\n",
       "\n",
       "    .dataframe tbody tr th {\n",
       "        vertical-align: top;\n",
       "    }\n",
       "\n",
       "    .dataframe thead th {\n",
       "        text-align: right;\n",
       "    }\n",
       "</style>\n",
       "<table border=\"1\" class=\"dataframe\">\n",
       "  <thead>\n",
       "    <tr style=\"text-align: right;\">\n",
       "      <th></th>\n",
       "      <th>transaction_id</th>\n",
       "      <th>transaction_date</th>\n",
       "      <th>transaction_time</th>\n",
       "      <th>transaction_qty</th>\n",
       "      <th>store_id</th>\n",
       "      <th>store_location</th>\n",
       "      <th>product_id</th>\n",
       "      <th>unit_price</th>\n",
       "      <th>product_category</th>\n",
       "      <th>product_type</th>\n",
       "      <th>product_detail</th>\n",
       "    </tr>\n",
       "  </thead>\n",
       "  <tbody>\n",
       "    <tr>\n",
       "      <th>0</th>\n",
       "      <td>1</td>\n",
       "      <td>2023-01-01</td>\n",
       "      <td>07:06:11</td>\n",
       "      <td>2</td>\n",
       "      <td>5</td>\n",
       "      <td>Lower Manhattan</td>\n",
       "      <td>32</td>\n",
       "      <td>3.0</td>\n",
       "      <td>Coffee</td>\n",
       "      <td>Gourmet brewed coffee</td>\n",
       "      <td>Ethiopia Rg</td>\n",
       "    </tr>\n",
       "    <tr>\n",
       "      <th>1</th>\n",
       "      <td>2</td>\n",
       "      <td>2023-01-01</td>\n",
       "      <td>07:08:56</td>\n",
       "      <td>2</td>\n",
       "      <td>5</td>\n",
       "      <td>Lower Manhattan</td>\n",
       "      <td>57</td>\n",
       "      <td>3.1</td>\n",
       "      <td>Tea</td>\n",
       "      <td>Brewed Chai tea</td>\n",
       "      <td>Spicy Eye Opener Chai Lg</td>\n",
       "    </tr>\n",
       "    <tr>\n",
       "      <th>2</th>\n",
       "      <td>3</td>\n",
       "      <td>2023-01-01</td>\n",
       "      <td>07:14:04</td>\n",
       "      <td>2</td>\n",
       "      <td>5</td>\n",
       "      <td>Lower Manhattan</td>\n",
       "      <td>59</td>\n",
       "      <td>4.5</td>\n",
       "      <td>Drinking Chocolate</td>\n",
       "      <td>Hot chocolate</td>\n",
       "      <td>Dark chocolate Lg</td>\n",
       "    </tr>\n",
       "  </tbody>\n",
       "</table>\n",
       "</div>"
      ],
      "text/plain": [
       "   transaction_id transaction_date transaction_time  transaction_qty  \\\n",
       "0               1       2023-01-01         07:06:11                2   \n",
       "1               2       2023-01-01         07:08:56                2   \n",
       "2               3       2023-01-01         07:14:04                2   \n",
       "\n",
       "   store_id   store_location  product_id  unit_price    product_category  \\\n",
       "0         5  Lower Manhattan          32         3.0              Coffee   \n",
       "1         5  Lower Manhattan          57         3.1                 Tea   \n",
       "2         5  Lower Manhattan          59         4.5  Drinking Chocolate   \n",
       "\n",
       "            product_type            product_detail  \n",
       "0  Gourmet brewed coffee               Ethiopia Rg  \n",
       "1        Brewed Chai tea  Spicy Eye Opener Chai Lg  \n",
       "2          Hot chocolate         Dark chocolate Lg  "
      ]
     },
     "execution_count": 3,
     "metadata": {},
     "output_type": "execute_result"
    }
   ],
   "source": [
    "# View the first three rows\n",
    "coffee_df.head(3)"
   ]
  },
  {
   "cell_type": "code",
   "execution_count": 4,
   "id": "af23e3d8-ca33-49f1-b9f8-53b587711743",
   "metadata": {},
   "outputs": [
    {
     "data": {
      "text/plain": [
       "(149116, 11)"
      ]
     },
     "execution_count": 4,
     "metadata": {},
     "output_type": "execute_result"
    }
   ],
   "source": [
    "# Check the shape of coffee_df \n",
    "coffee_df.shape"
   ]
  },
  {
   "cell_type": "code",
   "execution_count": 5,
   "id": "0e9b462d-25c9-49ac-9213-f95dc6a7af55",
   "metadata": {},
   "outputs": [
    {
     "name": "stdout",
     "output_type": "stream",
     "text": [
      "<class 'pandas.core.frame.DataFrame'>\n",
      "RangeIndex: 149116 entries, 0 to 149115\n",
      "Data columns (total 11 columns):\n",
      " #   Column            Non-Null Count   Dtype         \n",
      "---  ------            --------------   -----         \n",
      " 0   transaction_id    149116 non-null  int64         \n",
      " 1   transaction_date  149116 non-null  datetime64[ns]\n",
      " 2   transaction_time  149116 non-null  object        \n",
      " 3   transaction_qty   149116 non-null  int64         \n",
      " 4   store_id          149116 non-null  int64         \n",
      " 5   store_location    149116 non-null  object        \n",
      " 6   product_id        149116 non-null  int64         \n",
      " 7   unit_price        149116 non-null  float64       \n",
      " 8   product_category  149116 non-null  object        \n",
      " 9   product_type      149116 non-null  object        \n",
      " 10  product_detail    149116 non-null  object        \n",
      "dtypes: datetime64[ns](1), float64(1), int64(4), object(5)\n",
      "memory usage: 12.5+ MB\n"
     ]
    }
   ],
   "source": [
    "# Check the info of the coffee_df \n",
    "coffee_df.info()"
   ]
  },
  {
   "cell_type": "code",
   "execution_count": 6,
   "id": "e4986210-4263-4bcf-9517-13204403a15d",
   "metadata": {},
   "outputs": [
    {
     "data": {
      "text/html": [
       "<div>\n",
       "<style scoped>\n",
       "    .dataframe tbody tr th:only-of-type {\n",
       "        vertical-align: middle;\n",
       "    }\n",
       "\n",
       "    .dataframe tbody tr th {\n",
       "        vertical-align: top;\n",
       "    }\n",
       "\n",
       "    .dataframe thead th {\n",
       "        text-align: right;\n",
       "    }\n",
       "</style>\n",
       "<table border=\"1\" class=\"dataframe\">\n",
       "  <thead>\n",
       "    <tr style=\"text-align: right;\">\n",
       "      <th></th>\n",
       "      <th>transaction_id</th>\n",
       "      <th>transaction_date</th>\n",
       "      <th>transaction_qty</th>\n",
       "      <th>store_id</th>\n",
       "      <th>product_id</th>\n",
       "      <th>unit_price</th>\n",
       "    </tr>\n",
       "  </thead>\n",
       "  <tbody>\n",
       "    <tr>\n",
       "      <th>count</th>\n",
       "      <td>149116.000000</td>\n",
       "      <td>149116</td>\n",
       "      <td>149116.000000</td>\n",
       "      <td>149116.000000</td>\n",
       "      <td>149116.000000</td>\n",
       "      <td>149116.000000</td>\n",
       "    </tr>\n",
       "    <tr>\n",
       "      <th>mean</th>\n",
       "      <td>74737.371872</td>\n",
       "      <td>2023-04-15 11:50:32.173609984</td>\n",
       "      <td>1.438276</td>\n",
       "      <td>5.342063</td>\n",
       "      <td>47.918607</td>\n",
       "      <td>3.382219</td>\n",
       "    </tr>\n",
       "    <tr>\n",
       "      <th>min</th>\n",
       "      <td>1.000000</td>\n",
       "      <td>2023-01-01 00:00:00</td>\n",
       "      <td>1.000000</td>\n",
       "      <td>3.000000</td>\n",
       "      <td>1.000000</td>\n",
       "      <td>0.800000</td>\n",
       "    </tr>\n",
       "    <tr>\n",
       "      <th>25%</th>\n",
       "      <td>37335.750000</td>\n",
       "      <td>2023-03-06 00:00:00</td>\n",
       "      <td>1.000000</td>\n",
       "      <td>3.000000</td>\n",
       "      <td>33.000000</td>\n",
       "      <td>2.500000</td>\n",
       "    </tr>\n",
       "    <tr>\n",
       "      <th>50%</th>\n",
       "      <td>74727.500000</td>\n",
       "      <td>2023-04-24 00:00:00</td>\n",
       "      <td>1.000000</td>\n",
       "      <td>5.000000</td>\n",
       "      <td>47.000000</td>\n",
       "      <td>3.000000</td>\n",
       "    </tr>\n",
       "    <tr>\n",
       "      <th>75%</th>\n",
       "      <td>112094.250000</td>\n",
       "      <td>2023-05-30 00:00:00</td>\n",
       "      <td>2.000000</td>\n",
       "      <td>8.000000</td>\n",
       "      <td>60.000000</td>\n",
       "      <td>3.750000</td>\n",
       "    </tr>\n",
       "    <tr>\n",
       "      <th>max</th>\n",
       "      <td>149456.000000</td>\n",
       "      <td>2023-06-30 00:00:00</td>\n",
       "      <td>8.000000</td>\n",
       "      <td>8.000000</td>\n",
       "      <td>87.000000</td>\n",
       "      <td>45.000000</td>\n",
       "    </tr>\n",
       "    <tr>\n",
       "      <th>std</th>\n",
       "      <td>43153.600016</td>\n",
       "      <td>NaN</td>\n",
       "      <td>0.542509</td>\n",
       "      <td>2.074241</td>\n",
       "      <td>17.930020</td>\n",
       "      <td>2.658723</td>\n",
       "    </tr>\n",
       "  </tbody>\n",
       "</table>\n",
       "</div>"
      ],
      "text/plain": [
       "       transaction_id               transaction_date  transaction_qty  \\\n",
       "count   149116.000000                         149116    149116.000000   \n",
       "mean     74737.371872  2023-04-15 11:50:32.173609984         1.438276   \n",
       "min          1.000000            2023-01-01 00:00:00         1.000000   \n",
       "25%      37335.750000            2023-03-06 00:00:00         1.000000   \n",
       "50%      74727.500000            2023-04-24 00:00:00         1.000000   \n",
       "75%     112094.250000            2023-05-30 00:00:00         2.000000   \n",
       "max     149456.000000            2023-06-30 00:00:00         8.000000   \n",
       "std      43153.600016                            NaN         0.542509   \n",
       "\n",
       "            store_id     product_id     unit_price  \n",
       "count  149116.000000  149116.000000  149116.000000  \n",
       "mean        5.342063      47.918607       3.382219  \n",
       "min         3.000000       1.000000       0.800000  \n",
       "25%         3.000000      33.000000       2.500000  \n",
       "50%         5.000000      47.000000       3.000000  \n",
       "75%         8.000000      60.000000       3.750000  \n",
       "max         8.000000      87.000000      45.000000  \n",
       "std         2.074241      17.930020       2.658723  "
      ]
     },
     "execution_count": 6,
     "metadata": {},
     "output_type": "execute_result"
    }
   ],
   "source": [
    "# Check the descriptive statistics of the coffee_df dataframe.\n",
    "coffee_df.describe()"
   ]
  },
  {
   "cell_type": "markdown",
   "id": "551c5d1f-7c68-42c1-999b-5baf7e4caa26",
   "metadata": {},
   "source": [
    "The **coffee_df** DataFrame contains 149,116 rows and 11 columns. The data types of these columns are as follows: datetime64[ns] (1), float64 (1), int64 (4), and object (5). There are no null values in the dataset.\n",
    "\n",
    "<br>\n",
    "\n",
    "While using the `.describe( )` function, I first check for any negative values in the `transaction_qty` and `unit_price` columns. Fortunately, there are no negative values in either of these columns. Next, I examine the maximum and minimum values of the `transaction_date` column to understand the date range of the dataset. However, the `max( )` and `min( )` functions for `transaction_date` don't indicate whether any dates are missing between **2023-01-01 and 2023-06-30**. To address this, I will generate a date range and check for any gaps. Now, let's move on to the exploratory data analysis section."
   ]
  },
  {
   "cell_type": "markdown",
   "id": "f679ef57-1dbe-48c8-bfb2-85176be40f0d",
   "metadata": {},
   "source": [
    "<br></br>\n",
    "\n",
    "<br></br>"
   ]
  },
  {
   "cell_type": "markdown",
   "id": "d2b656de-e6fc-4b00-8175-36107bab97e7",
   "metadata": {
    "jp-MarkdownHeadingCollapsed": true
   },
   "source": [
    "<h1 style=\"color: white; padding: 10px; border-radius: 5px; background: linear-gradient(to right, #BBC4F9, #BBC4F9);\">Exploratory Data Analysis</h1>"
   ]
  },
  {
   "cell_type": "markdown",
   "id": "c58690bd-e1bd-4b98-9fe0-fdbafc5ebe93",
   "metadata": {},
   "source": [
    "The first step in the **Exploratory Data Analysis** process is to identify null values across all columns. Leveraging the `.info( )` output from the previous section, and confirmed that no columns contain null values. However, the absence of null values in the `transaction_date` column does not necessarily mean the date sequence is complete. To verify, I compared the range of expected dates, from **2023-01-01 to 2023-06-30**, against the actual values in the `transaction_date` column. This analysis confirmed that no dates are missing within the specified range.\n",
    "\n",
    "<br>\n",
    "\n",
    "Next, I examined the dataset for duplicate entries, as duplicates can significantly skew results and lead to unreliable insights. A comprehensive check revealed no duplicate records, ensuring data integrity for further analysis. With these initial checks complete, I am confident in proceeding with a deeper exploration of the coffee dataset."
   ]
  },
  {
   "cell_type": "code",
   "execution_count": 7,
   "id": "d7bb7831-f636-408f-8aec-ba9ca5e98ce7",
   "metadata": {},
   "outputs": [
    {
     "data": {
      "text/plain": [
       "transaction_id      0\n",
       "transaction_date    0\n",
       "transaction_time    0\n",
       "transaction_qty     0\n",
       "store_id            0\n",
       "store_location      0\n",
       "product_id          0\n",
       "unit_price          0\n",
       "product_category    0\n",
       "product_type        0\n",
       "product_detail      0\n",
       "dtype: int64"
      ]
     },
     "execution_count": 7,
     "metadata": {},
     "output_type": "execute_result"
    }
   ],
   "source": [
    "# Check for any Null Values\n",
    "coffee_df.isna().sum()"
   ]
  },
  {
   "cell_type": "code",
   "execution_count": 8,
   "id": "5bfbf57f-27e5-4626-b76c-9530b42b7e53",
   "metadata": {},
   "outputs": [
    {
     "data": {
      "text/plain": [
       "DatetimeIndex([], dtype='datetime64[ns]', freq='D')"
      ]
     },
     "execution_count": 8,
     "metadata": {},
     "output_type": "execute_result"
    }
   ],
   "source": [
    "# Check for any missing dates\n",
    "\n",
    "# Create a date list from 2023-01-01 to 2023-06-30\n",
    "full_date_range = pd.date_range(start='2023-01-01', end='2023-06-30')    \n",
    "\n",
    "\n",
    "# Find the difference between the two list \n",
    "full_date_range.difference(coffee_df['transaction_date'])                        "
   ]
  },
  {
   "cell_type": "code",
   "execution_count": 9,
   "id": "d0bc4330-9c29-41f6-961f-dc082c6727c1",
   "metadata": {},
   "outputs": [
    {
     "data": {
      "text/plain": [
       "0"
      ]
     },
     "execution_count": 9,
     "metadata": {},
     "output_type": "execute_result"
    }
   ],
   "source": [
    "# Check for any Duplicates\n",
    "coffee_df.duplicated().sum()"
   ]
  },
  {
   "cell_type": "markdown",
   "id": "ba791f07-7d9f-4ebe-bd00-b5004ee0ef42",
   "metadata": {},
   "source": [
    "<br></br>\n",
    "\n",
    "<br></br>"
   ]
  },
  {
   "cell_type": "code",
   "execution_count": 10,
   "id": "c52dc51c-c74e-4136-af2f-18624732e84c",
   "metadata": {},
   "outputs": [
    {
     "data": {
      "text/html": [
       "<div>\n",
       "<style scoped>\n",
       "    .dataframe tbody tr th:only-of-type {\n",
       "        vertical-align: middle;\n",
       "    }\n",
       "\n",
       "    .dataframe tbody tr th {\n",
       "        vertical-align: top;\n",
       "    }\n",
       "\n",
       "    .dataframe thead th {\n",
       "        text-align: right;\n",
       "    }\n",
       "</style>\n",
       "<table border=\"1\" class=\"dataframe\">\n",
       "  <thead>\n",
       "    <tr style=\"text-align: right;\">\n",
       "      <th></th>\n",
       "      <th>transaction_id</th>\n",
       "      <th>transaction_date</th>\n",
       "      <th>transaction_time</th>\n",
       "      <th>transaction_qty</th>\n",
       "      <th>store_id</th>\n",
       "      <th>store_location</th>\n",
       "      <th>product_id</th>\n",
       "      <th>unit_price</th>\n",
       "      <th>product_category</th>\n",
       "      <th>product_type</th>\n",
       "      <th>product_detail</th>\n",
       "    </tr>\n",
       "  </thead>\n",
       "  <tbody>\n",
       "    <tr>\n",
       "      <th>0</th>\n",
       "      <td>1</td>\n",
       "      <td>2023-01-01</td>\n",
       "      <td>07:06:11</td>\n",
       "      <td>2</td>\n",
       "      <td>5</td>\n",
       "      <td>Lower Manhattan</td>\n",
       "      <td>32</td>\n",
       "      <td>3.0</td>\n",
       "      <td>Coffee</td>\n",
       "      <td>Gourmet brewed coffee</td>\n",
       "      <td>Ethiopia Rg</td>\n",
       "    </tr>\n",
       "    <tr>\n",
       "      <th>1</th>\n",
       "      <td>2</td>\n",
       "      <td>2023-01-01</td>\n",
       "      <td>07:08:56</td>\n",
       "      <td>2</td>\n",
       "      <td>5</td>\n",
       "      <td>Lower Manhattan</td>\n",
       "      <td>57</td>\n",
       "      <td>3.1</td>\n",
       "      <td>Tea</td>\n",
       "      <td>Brewed Chai tea</td>\n",
       "      <td>Spicy Eye Opener Chai Lg</td>\n",
       "    </tr>\n",
       "    <tr>\n",
       "      <th>2</th>\n",
       "      <td>3</td>\n",
       "      <td>2023-01-01</td>\n",
       "      <td>07:14:04</td>\n",
       "      <td>2</td>\n",
       "      <td>5</td>\n",
       "      <td>Lower Manhattan</td>\n",
       "      <td>59</td>\n",
       "      <td>4.5</td>\n",
       "      <td>Drinking Chocolate</td>\n",
       "      <td>Hot chocolate</td>\n",
       "      <td>Dark chocolate Lg</td>\n",
       "    </tr>\n",
       "  </tbody>\n",
       "</table>\n",
       "</div>"
      ],
      "text/plain": [
       "   transaction_id transaction_date transaction_time  transaction_qty  \\\n",
       "0               1       2023-01-01         07:06:11                2   \n",
       "1               2       2023-01-01         07:08:56                2   \n",
       "2               3       2023-01-01         07:14:04                2   \n",
       "\n",
       "   store_id   store_location  product_id  unit_price    product_category  \\\n",
       "0         5  Lower Manhattan          32         3.0              Coffee   \n",
       "1         5  Lower Manhattan          57         3.1                 Tea   \n",
       "2         5  Lower Manhattan          59         4.5  Drinking Chocolate   \n",
       "\n",
       "            product_type            product_detail  \n",
       "0  Gourmet brewed coffee               Ethiopia Rg  \n",
       "1        Brewed Chai tea  Spicy Eye Opener Chai Lg  \n",
       "2          Hot chocolate         Dark chocolate Lg  "
      ]
     },
     "execution_count": 10,
     "metadata": {},
     "output_type": "execute_result"
    }
   ],
   "source": [
    "# Coffee_df first 3 rows\n",
    "coffee_df.head(3)"
   ]
  },
  {
   "cell_type": "code",
   "execution_count": 11,
   "id": "519f0880-a4a3-4eec-aba2-21ec0c46a500",
   "metadata": {},
   "outputs": [
    {
     "data": {
      "text/html": [
       "<div>\n",
       "<style scoped>\n",
       "    .dataframe tbody tr th:only-of-type {\n",
       "        vertical-align: middle;\n",
       "    }\n",
       "\n",
       "    .dataframe tbody tr th {\n",
       "        vertical-align: top;\n",
       "    }\n",
       "\n",
       "    .dataframe thead th {\n",
       "        text-align: right;\n",
       "    }\n",
       "</style>\n",
       "<table border=\"1\" class=\"dataframe\">\n",
       "  <thead>\n",
       "    <tr style=\"text-align: right;\">\n",
       "      <th></th>\n",
       "      <th>transaction_id</th>\n",
       "      <th>transaction_date</th>\n",
       "      <th>transaction_time</th>\n",
       "      <th>transaction_qty</th>\n",
       "      <th>store_id</th>\n",
       "      <th>store_location</th>\n",
       "      <th>product_id</th>\n",
       "      <th>unit_price</th>\n",
       "      <th>product_category</th>\n",
       "      <th>product_type</th>\n",
       "      <th>product_detail</th>\n",
       "      <th>week</th>\n",
       "      <th>transaction_total</th>\n",
       "    </tr>\n",
       "  </thead>\n",
       "  <tbody>\n",
       "    <tr>\n",
       "      <th>0</th>\n",
       "      <td>1</td>\n",
       "      <td>2023-01-01</td>\n",
       "      <td>07:06:11</td>\n",
       "      <td>2</td>\n",
       "      <td>5</td>\n",
       "      <td>Lower Manhattan</td>\n",
       "      <td>32</td>\n",
       "      <td>3.0</td>\n",
       "      <td>Coffee</td>\n",
       "      <td>Gourmet brewed coffee</td>\n",
       "      <td>Ethiopia Rg</td>\n",
       "      <td>2023-W01</td>\n",
       "      <td>6.0</td>\n",
       "    </tr>\n",
       "    <tr>\n",
       "      <th>1</th>\n",
       "      <td>2</td>\n",
       "      <td>2023-01-01</td>\n",
       "      <td>07:08:56</td>\n",
       "      <td>2</td>\n",
       "      <td>5</td>\n",
       "      <td>Lower Manhattan</td>\n",
       "      <td>57</td>\n",
       "      <td>3.1</td>\n",
       "      <td>Tea</td>\n",
       "      <td>Brewed Chai tea</td>\n",
       "      <td>Spicy Eye Opener Chai Lg</td>\n",
       "      <td>2023-W01</td>\n",
       "      <td>6.2</td>\n",
       "    </tr>\n",
       "    <tr>\n",
       "      <th>2</th>\n",
       "      <td>3</td>\n",
       "      <td>2023-01-01</td>\n",
       "      <td>07:14:04</td>\n",
       "      <td>2</td>\n",
       "      <td>5</td>\n",
       "      <td>Lower Manhattan</td>\n",
       "      <td>59</td>\n",
       "      <td>4.5</td>\n",
       "      <td>Drinking Chocolate</td>\n",
       "      <td>Hot chocolate</td>\n",
       "      <td>Dark chocolate Lg</td>\n",
       "      <td>2023-W01</td>\n",
       "      <td>9.0</td>\n",
       "    </tr>\n",
       "  </tbody>\n",
       "</table>\n",
       "</div>"
      ],
      "text/plain": [
       "   transaction_id transaction_date transaction_time  transaction_qty  \\\n",
       "0               1       2023-01-01         07:06:11                2   \n",
       "1               2       2023-01-01         07:08:56                2   \n",
       "2               3       2023-01-01         07:14:04                2   \n",
       "\n",
       "   store_id   store_location  product_id  unit_price    product_category  \\\n",
       "0         5  Lower Manhattan          32         3.0              Coffee   \n",
       "1         5  Lower Manhattan          57         3.1                 Tea   \n",
       "2         5  Lower Manhattan          59         4.5  Drinking Chocolate   \n",
       "\n",
       "            product_type            product_detail      week  \\\n",
       "0  Gourmet brewed coffee               Ethiopia Rg  2023-W01   \n",
       "1        Brewed Chai tea  Spicy Eye Opener Chai Lg  2023-W01   \n",
       "2          Hot chocolate         Dark chocolate Lg  2023-W01   \n",
       "\n",
       "   transaction_total  \n",
       "0                6.0  \n",
       "1                6.2  \n",
       "2                9.0  "
      ]
     },
     "execution_count": 11,
     "metadata": {},
     "output_type": "execute_result"
    }
   ],
   "source": [
    "# Creat a new column call `week`\n",
    "coffee_df['week'] = coffee_df['transaction_date'].dt.strftime('%Y-W%U')\n",
    "\n",
    "\n",
    "\n",
    "# Creat a new column called `transaction_total` \n",
    "coffee_df['transaction_total'] = coffee_df['transaction_qty'] * coffee_df['unit_price']\n",
    "\n",
    "\n",
    "# View first three rows\n",
    "coffee_df.head(3)"
   ]
  },
  {
   "cell_type": "markdown",
   "id": "b739ec84-8466-46b7-82ae-978193bf12fc",
   "metadata": {},
   "source": [
    "Since the sales and marketing team has requested a focus on weekly insights into coffee sales and product performance, I will begin by creating a new column named week, derived from the `transaction_date` column. This will allow us to group and analyze the data on a weekly basis.\n",
    "\n",
    "<br>\n",
    "\n",
    "Additionally, to calculate the total sales for each transaction, I will create another column called `transaction_total` by multiplying `transaction_qty` and `unit_price`. This new column will provide the total revenue generated per transaction, enabling more in-depth analysis of sales trends."
   ]
  },
  {
   "cell_type": "markdown",
   "id": "122b3d9f-5834-441e-b473-a938c98510f7",
   "metadata": {},
   "source": [
    "<br></br>\n",
    "\n",
    "<br></br>"
   ]
  },
  {
   "cell_type": "markdown",
   "id": "3b86e3c2-0fdb-47e5-be0f-284ae619b1cf",
   "metadata": {
    "jp-MarkdownHeadingCollapsed": true
   },
   "source": [
    "<h1 style=\"color: white; padding: 10px; border-radius: 5px; background: linear-gradient(to right, #BBC4F9, #BBC4F9);\">EDA | Weekly Performance by Store Locations</h1>"
   ]
  },
  {
   "cell_type": "markdown",
   "id": "bc877e50-844c-4f24-84c6-af921a05f2eb",
   "metadata": {},
   "source": [
    "**Create a Weekly Coffee Sales by Store Location** <br>\n",
    "\n",
    "I called the `.groupby( )` function to group the data by `week` and `store_location.` Within this grouping, I aggregated the sum of the `transaction_total` and `transaction_qty` columns, and the count of `transaction_id`. This process provides a summary of weekly coffee sales segmented by week and store location."
   ]
  },
  {
   "cell_type": "code",
   "execution_count": 12,
   "id": "937e3fe8-c1fb-4c45-8cd3-7dcdac1596a7",
   "metadata": {},
   "outputs": [
    {
     "data": {
      "text/html": [
       "<div>\n",
       "<style scoped>\n",
       "    .dataframe tbody tr th:only-of-type {\n",
       "        vertical-align: middle;\n",
       "    }\n",
       "\n",
       "    .dataframe tbody tr th {\n",
       "        vertical-align: top;\n",
       "    }\n",
       "\n",
       "    .dataframe thead th {\n",
       "        text-align: right;\n",
       "    }\n",
       "</style>\n",
       "<table border=\"1\" class=\"dataframe\">\n",
       "  <thead>\n",
       "    <tr style=\"text-align: right;\">\n",
       "      <th></th>\n",
       "      <th>week_</th>\n",
       "      <th>store_location_</th>\n",
       "      <th>transaction_qty_sum</th>\n",
       "      <th>transaction_total_sum</th>\n",
       "      <th>transaction_id_count</th>\n",
       "    </tr>\n",
       "  </thead>\n",
       "  <tbody>\n",
       "    <tr>\n",
       "      <th>0</th>\n",
       "      <td>2023-W01</td>\n",
       "      <td>Astoria</td>\n",
       "      <td>1893</td>\n",
       "      <td>5931.30</td>\n",
       "      <td>1328</td>\n",
       "    </tr>\n",
       "    <tr>\n",
       "      <th>1</th>\n",
       "      <td>2023-W01</td>\n",
       "      <td>Hell's Kitchen</td>\n",
       "      <td>1907</td>\n",
       "      <td>5874.35</td>\n",
       "      <td>1326</td>\n",
       "    </tr>\n",
       "    <tr>\n",
       "      <th>2</th>\n",
       "      <td>2023-W01</td>\n",
       "      <td>Lower Manhattan</td>\n",
       "      <td>1654</td>\n",
       "      <td>5203.35</td>\n",
       "      <td>1159</td>\n",
       "    </tr>\n",
       "    <tr>\n",
       "      <th>3</th>\n",
       "      <td>2023-W02</td>\n",
       "      <td>Astoria</td>\n",
       "      <td>1634</td>\n",
       "      <td>5384.51</td>\n",
       "      <td>1174</td>\n",
       "    </tr>\n",
       "    <tr>\n",
       "      <th>4</th>\n",
       "      <td>2023-W02</td>\n",
       "      <td>Hell's Kitchen</td>\n",
       "      <td>2103</td>\n",
       "      <td>6808.19</td>\n",
       "      <td>1468</td>\n",
       "    </tr>\n",
       "  </tbody>\n",
       "</table>\n",
       "</div>"
      ],
      "text/plain": [
       "      week_  store_location_  transaction_qty_sum  transaction_total_sum  \\\n",
       "0  2023-W01          Astoria                 1893                5931.30   \n",
       "1  2023-W01   Hell's Kitchen                 1907                5874.35   \n",
       "2  2023-W01  Lower Manhattan                 1654                5203.35   \n",
       "3  2023-W02          Astoria                 1634                5384.51   \n",
       "4  2023-W02   Hell's Kitchen                 2103                6808.19   \n",
       "\n",
       "   transaction_id_count  \n",
       "0                  1328  \n",
       "1                  1326  \n",
       "2                  1159  \n",
       "3                  1174  \n",
       "4                  1468  "
      ]
     },
     "execution_count": 12,
     "metadata": {},
     "output_type": "execute_result"
    }
   ],
   "source": [
    "# Group the data by week and store_locations\n",
    "weekly_coffee_sales = coffee_df.groupby(['week','store_location']).agg({'transaction_qty':['sum'],\n",
    "                                                                        'transaction_total':['sum'],\n",
    "                                                                        'transaction_id':['count']}).reset_index()\n",
    "\n",
    "\n",
    "# Change the Multi-index columns into single index columns\n",
    "weekly_coffee_sales.columns = ['_'.join(col)  for col in weekly_coffee_sales.columns.values]\n",
    "\n",
    "\n",
    "# Check the new weekly dataframe\n",
    "weekly_coffee_sales.head(5)"
   ]
  },
  {
   "cell_type": "markdown",
   "id": "b8c1b691-5264-4b09-a7d7-009ea4597f68",
   "metadata": {},
   "source": [
    "<br></br>\n",
    "\n",
    "<br></br>"
   ]
  },
  {
   "cell_type": "markdown",
   "id": "772add85-4384-4b78-b776-c10768cbb9b1",
   "metadata": {},
   "source": [
    "**Rename the columns** <br>\n",
    "\n",
    "I renamed the resulting columns with more intuitive column names to improve clarity for interpretation."
   ]
  },
  {
   "cell_type": "code",
   "execution_count": 13,
   "id": "9be4b7ff-84de-4369-b167-515ca16d33c3",
   "metadata": {},
   "outputs": [
    {
     "data": {
      "text/html": [
       "<div>\n",
       "<style scoped>\n",
       "    .dataframe tbody tr th:only-of-type {\n",
       "        vertical-align: middle;\n",
       "    }\n",
       "\n",
       "    .dataframe tbody tr th {\n",
       "        vertical-align: top;\n",
       "    }\n",
       "\n",
       "    .dataframe thead th {\n",
       "        text-align: right;\n",
       "    }\n",
       "</style>\n",
       "<table border=\"1\" class=\"dataframe\">\n",
       "  <thead>\n",
       "    <tr style=\"text-align: right;\">\n",
       "      <th></th>\n",
       "      <th>week</th>\n",
       "      <th>store_loc</th>\n",
       "      <th>total_units_sold</th>\n",
       "      <th>total_sales</th>\n",
       "      <th>num_transactions</th>\n",
       "    </tr>\n",
       "  </thead>\n",
       "  <tbody>\n",
       "    <tr>\n",
       "      <th>0</th>\n",
       "      <td>2023-W01</td>\n",
       "      <td>Astoria</td>\n",
       "      <td>1893</td>\n",
       "      <td>5931.30</td>\n",
       "      <td>1328</td>\n",
       "    </tr>\n",
       "    <tr>\n",
       "      <th>1</th>\n",
       "      <td>2023-W01</td>\n",
       "      <td>Hell's Kitchen</td>\n",
       "      <td>1907</td>\n",
       "      <td>5874.35</td>\n",
       "      <td>1326</td>\n",
       "    </tr>\n",
       "    <tr>\n",
       "      <th>2</th>\n",
       "      <td>2023-W01</td>\n",
       "      <td>Lower Manhattan</td>\n",
       "      <td>1654</td>\n",
       "      <td>5203.35</td>\n",
       "      <td>1159</td>\n",
       "    </tr>\n",
       "    <tr>\n",
       "      <th>3</th>\n",
       "      <td>2023-W02</td>\n",
       "      <td>Astoria</td>\n",
       "      <td>1634</td>\n",
       "      <td>5384.51</td>\n",
       "      <td>1174</td>\n",
       "    </tr>\n",
       "    <tr>\n",
       "      <th>4</th>\n",
       "      <td>2023-W02</td>\n",
       "      <td>Hell's Kitchen</td>\n",
       "      <td>2103</td>\n",
       "      <td>6808.19</td>\n",
       "      <td>1468</td>\n",
       "    </tr>\n",
       "  </tbody>\n",
       "</table>\n",
       "</div>"
      ],
      "text/plain": [
       "       week        store_loc  total_units_sold  total_sales  num_transactions\n",
       "0  2023-W01          Astoria              1893      5931.30              1328\n",
       "1  2023-W01   Hell's Kitchen              1907      5874.35              1326\n",
       "2  2023-W01  Lower Manhattan              1654      5203.35              1159\n",
       "3  2023-W02          Astoria              1634      5384.51              1174\n",
       "4  2023-W02   Hell's Kitchen              2103      6808.19              1468"
      ]
     },
     "execution_count": 13,
     "metadata": {},
     "output_type": "execute_result"
    }
   ],
   "source": [
    "# Rename each columns \n",
    "weekly_coffee_sales.columns = ['week','store_loc', 'total_units_sold', 'total_sales', 'num_transactions' ]\n",
    "\n",
    "\n",
    "# Check first five rows\n",
    "weekly_coffee_sales.head(5)"
   ]
  },
  {
   "cell_type": "markdown",
   "id": "efc4e611-302a-4e29-8491-ab4b17315e80",
   "metadata": {},
   "source": [
    "<br></br>\n",
    "\n",
    "<br></br>"
   ]
  },
  {
   "cell_type": "markdown",
   "id": "57d1eed7-9436-454f-8fe9-e98355f7af92",
   "metadata": {},
   "source": [
    "**Calculate  the `Average Transaction Value (ATV)`** <br>\n",
    "\n",
    "The **Average Transaction Value (ATV)** is a crucial metric for the sales and marketing team to assess sales performance. It provides insight into the average value generated per transaction and is calculated using the formula:\n",
    "\n",
    "\n",
    "<br>\n",
    "\n",
    "$$\n",
    "\\huge ATV = {\\frac{Total \\ \\ Sales }{Number \\ \\ of \\ \\ Transactions}}\n",
    "$$\n",
    "\n",
    "<br>"
   ]
  },
  {
   "cell_type": "code",
   "execution_count": 14,
   "id": "9f5a99c3-8921-466e-95ef-e5a14cc4c714",
   "metadata": {},
   "outputs": [
    {
     "data": {
      "text/html": [
       "<div>\n",
       "<style scoped>\n",
       "    .dataframe tbody tr th:only-of-type {\n",
       "        vertical-align: middle;\n",
       "    }\n",
       "\n",
       "    .dataframe tbody tr th {\n",
       "        vertical-align: top;\n",
       "    }\n",
       "\n",
       "    .dataframe thead th {\n",
       "        text-align: right;\n",
       "    }\n",
       "</style>\n",
       "<table border=\"1\" class=\"dataframe\">\n",
       "  <thead>\n",
       "    <tr style=\"text-align: right;\">\n",
       "      <th></th>\n",
       "      <th>week</th>\n",
       "      <th>store_loc</th>\n",
       "      <th>total_units_sold</th>\n",
       "      <th>total_sales</th>\n",
       "      <th>num_transactions</th>\n",
       "      <th>ATV</th>\n",
       "    </tr>\n",
       "  </thead>\n",
       "  <tbody>\n",
       "    <tr>\n",
       "      <th>0</th>\n",
       "      <td>2023-W01</td>\n",
       "      <td>Astoria</td>\n",
       "      <td>1893</td>\n",
       "      <td>5931.30</td>\n",
       "      <td>1328</td>\n",
       "      <td>4.466340</td>\n",
       "    </tr>\n",
       "    <tr>\n",
       "      <th>1</th>\n",
       "      <td>2023-W01</td>\n",
       "      <td>Hell's Kitchen</td>\n",
       "      <td>1907</td>\n",
       "      <td>5874.35</td>\n",
       "      <td>1326</td>\n",
       "      <td>4.430128</td>\n",
       "    </tr>\n",
       "    <tr>\n",
       "      <th>2</th>\n",
       "      <td>2023-W01</td>\n",
       "      <td>Lower Manhattan</td>\n",
       "      <td>1654</td>\n",
       "      <td>5203.35</td>\n",
       "      <td>1159</td>\n",
       "      <td>4.489517</td>\n",
       "    </tr>\n",
       "  </tbody>\n",
       "</table>\n",
       "</div>"
      ],
      "text/plain": [
       "       week        store_loc  total_units_sold  total_sales  num_transactions  \\\n",
       "0  2023-W01          Astoria              1893      5931.30              1328   \n",
       "1  2023-W01   Hell's Kitchen              1907      5874.35              1326   \n",
       "2  2023-W01  Lower Manhattan              1654      5203.35              1159   \n",
       "\n",
       "        ATV  \n",
       "0  4.466340  \n",
       "1  4.430128  \n",
       "2  4.489517  "
      ]
     },
     "execution_count": 14,
     "metadata": {},
     "output_type": "execute_result"
    }
   ],
   "source": [
    "# Calculate the ATV \n",
    "weekly_coffee_sales['ATV'] =  weekly_coffee_sales['total_sales'] / weekly_coffee_sales['num_transactions']\n",
    "weekly_coffee_sales.head(3)"
   ]
  },
  {
   "cell_type": "markdown",
   "id": "5f3a953c-855c-4ad9-9a91-efb618658d0d",
   "metadata": {},
   "source": [
    "<br></br>\n",
    "\n",
    "<br></br>"
   ]
  },
  {
   "cell_type": "markdown",
   "id": "e3e0d99c-6904-42df-990b-e88298545213",
   "metadata": {},
   "source": [
    "**Calculate the `Average Units per Transaction (AUT)`** <br>\n",
    "\n",
    "Another valuable metric for the sales and marketing team is the **Average Units per Transaction (AUT)**. This metric indicates the average number of units sold per transaction, offering insights into the typical quantity of items purchased in a single transaction. The formula for calculating AUT is:\n",
    "\n",
    "<br>\n",
    "\n",
    "$$\n",
    "\\huge AUT = {\\frac{Total \\ \\ Units \\ Sold}{Number \\ \\ of \\ \\ Transactions}}\n",
    "$$\n",
    "\n",
    "<br>\n"
   ]
  },
  {
   "cell_type": "code",
   "execution_count": 15,
   "id": "68ae9dda-38cd-453e-ac76-8bed3fc0dcf4",
   "metadata": {},
   "outputs": [
    {
     "data": {
      "text/html": [
       "<div>\n",
       "<style scoped>\n",
       "    .dataframe tbody tr th:only-of-type {\n",
       "        vertical-align: middle;\n",
       "    }\n",
       "\n",
       "    .dataframe tbody tr th {\n",
       "        vertical-align: top;\n",
       "    }\n",
       "\n",
       "    .dataframe thead th {\n",
       "        text-align: right;\n",
       "    }\n",
       "</style>\n",
       "<table border=\"1\" class=\"dataframe\">\n",
       "  <thead>\n",
       "    <tr style=\"text-align: right;\">\n",
       "      <th></th>\n",
       "      <th>week</th>\n",
       "      <th>store_loc</th>\n",
       "      <th>total_units_sold</th>\n",
       "      <th>total_sales</th>\n",
       "      <th>num_transactions</th>\n",
       "      <th>ATV</th>\n",
       "      <th>AUT</th>\n",
       "    </tr>\n",
       "  </thead>\n",
       "  <tbody>\n",
       "    <tr>\n",
       "      <th>0</th>\n",
       "      <td>2023-W01</td>\n",
       "      <td>Astoria</td>\n",
       "      <td>1893</td>\n",
       "      <td>5931.30</td>\n",
       "      <td>1328</td>\n",
       "      <td>4.466340</td>\n",
       "      <td>1.425452</td>\n",
       "    </tr>\n",
       "    <tr>\n",
       "      <th>1</th>\n",
       "      <td>2023-W01</td>\n",
       "      <td>Hell's Kitchen</td>\n",
       "      <td>1907</td>\n",
       "      <td>5874.35</td>\n",
       "      <td>1326</td>\n",
       "      <td>4.430128</td>\n",
       "      <td>1.438160</td>\n",
       "    </tr>\n",
       "    <tr>\n",
       "      <th>2</th>\n",
       "      <td>2023-W01</td>\n",
       "      <td>Lower Manhattan</td>\n",
       "      <td>1654</td>\n",
       "      <td>5203.35</td>\n",
       "      <td>1159</td>\n",
       "      <td>4.489517</td>\n",
       "      <td>1.427092</td>\n",
       "    </tr>\n",
       "  </tbody>\n",
       "</table>\n",
       "</div>"
      ],
      "text/plain": [
       "       week        store_loc  total_units_sold  total_sales  num_transactions  \\\n",
       "0  2023-W01          Astoria              1893      5931.30              1328   \n",
       "1  2023-W01   Hell's Kitchen              1907      5874.35              1326   \n",
       "2  2023-W01  Lower Manhattan              1654      5203.35              1159   \n",
       "\n",
       "        ATV       AUT  \n",
       "0  4.466340  1.425452  \n",
       "1  4.430128  1.438160  \n",
       "2  4.489517  1.427092  "
      ]
     },
     "execution_count": 15,
     "metadata": {},
     "output_type": "execute_result"
    }
   ],
   "source": [
    "# Calculate the AUT\n",
    "weekly_coffee_sales['AUT'] = weekly_coffee_sales['total_units_sold'] / weekly_coffee_sales['num_transactions']\n",
    "weekly_coffee_sales.head(3)"
   ]
  },
  {
   "cell_type": "markdown",
   "id": "3ae77fa4-87c7-4ccf-b6fe-53abdf0be2e3",
   "metadata": {},
   "source": [
    "<br></br>\n",
    "\n",
    "<br></br>"
   ]
  },
  {
   "cell_type": "markdown",
   "id": "9e8535ae-6a0a-40d0-b6dc-71d3f00dd4ac",
   "metadata": {},
   "source": [
    "**Creating Plots for Analysis** <br>\n",
    "\n",
    "Here, I will create three plots to illustrate the following:\n",
    "* `Plot 1`: Weekly Total Sales from Week 1 to Week 26 across all three stores. \n",
    "* `Plot 2`: Weekly Average Transaction Value (ATV) for all three stores.\n",
    "* `Plot 3`: Weekly Average Units per Transaction (AUT) for all three stores. "
   ]
  },
  {
   "cell_type": "code",
   "execution_count": 16,
   "id": "f73b385b-33c3-4bcc-bfc7-56e52635b2ef",
   "metadata": {},
   "outputs": [
    {
     "data": {
      "image/png": "[encoded data removed]",
      "text/plain": [
       "<Figure size 1500x500 with 3 Axes>"
      ]
     },
     "metadata": {},
     "output_type": "display_data"
    }
   ],
   "source": [
    "# Creat subplots\n",
    "fig, axes = plt.subplots(1, 3, figsize=(15,5))\n",
    "\n",
    "# plot Figure 1.1: Total Sales by Week \n",
    "sns.lineplot(data=weekly_coffee_sales, x='week', y='total_sales', hue='store_loc', ax=axes[0])\n",
    "axes[0].set_title('Total Sales by Weeks | (W1 - W26)')\n",
    "axes[0].set_xlabel('Week')\n",
    "axes[0].set_ylabel('Total Sales')\n",
    "axes[0].set_xticks('Figure 1.1')\n",
    "\n",
    "\n",
    "# Plot Figure 1.2: Avg Trasnaction Value by Week \n",
    "sns.lineplot(data=weekly_coffee_sales, x='week', y='ATV', hue='store_loc', ax=axes[1])\n",
    "axes[1].set_title('Avg Trasnaction Value by Week | (W1 - W26)')\n",
    "axes[1].set_xlabel('Week')\n",
    "axes[1].set_ylabel('ATV')\n",
    "axes[1].set_xticks('Figure 1.2')\n",
    "\n",
    "\n",
    "# Figure 1.3:  Avg Units per Transaction by Week by Week\n",
    "sns.lineplot(data=weekly_coffee_sales, x='week', y='AUT', hue='store_loc', ax=axes[2])\n",
    "axes[2].set_title('Avg Units per Transaction by Week | (W1 - W26)')\n",
    "axes[2].set_xlabel('Week')\n",
    "axes[2].set_ylabel('AUT')\n",
    "axes[2].set_xticks('Figure 1.3')\n",
    "\n",
    "\n",
    "# show plots\n",
    "\n",
    "plt.tight_layout()\n",
    "plt.show()"
   ]
  },
  {
   "cell_type": "markdown",
   "id": "9ae31681-fe00-44d5-8f95-6dbbe9dededc",
   "metadata": {},
   "source": [
    "***Figure 1.1*** <br>\n",
    "<br>\n",
    "***Figure 1.1*** illustrates the trends in total revenue generated by the three stores over the first 26 weeks. The `total_sales` of coffee show an upward trajectory across all stores as the weeks progress. **Weeks W1–W13 correspond to January through March**, while **W14–W26 represent April through June**. Notably, `total_sales` experience a rapid increase around Week 14, marking the transition to April, with this growth trend continuing steadily through the end of June.\n",
    "\n",
    "<br></br>\n",
    "\n",
    "***Figure 1.2***  <br>\n",
    "<br>\n",
    "***Figure 1.2***  compares the average revenue per transaction over the first 26 weeks across three different store locations. Observing the trends, the **Average Transaction Value (ATV)** exhibits a fluctuating pattern of increases and decreases for all three stores throughout this 26 Weeks period. Among the locations, the Lower Manhattan store consistently records the highest Average Transaction Values weekly.\n",
    "\n",
    "<br></br>\n",
    "\n",
    "***Figure 1.3***  <br>\n",
    "<br>\n",
    "***Figure 1.3*** illustrates purchasing patterns by displaying the weekly average number of items bought per transaction for each store. All three stores exhibit a fluctuating pattern in their weekly **Average Units per Transaction (AUT)**. Among them, the Lower Manhattan store consistently shows a higher weekly average number of units per transaction over the first 26 weeks.\n",
    "<br></br>"
   ]
  },
  {
   "cell_type": "markdown",
   "id": "95c29a8b-7a53-473a-8317-a59912560ff4",
   "metadata": {},
   "source": [
    "<br></br>\n",
    "\n",
    "<br></br>"
   ]
  },
  {
   "cell_type": "markdown",
   "id": "1897e228-3fe2-443a-afe7-7e9b8fe82b1a",
   "metadata": {},
   "source": [
    "<h1 style=\"color: white; padding: 10px; border-radius: 5px; background: linear-gradient(to right, #BBC4F9, #BBC4F9);\">EDA | Weekly Performance by Categories</h1>"
   ]
  },
  {
   "cell_type": "markdown",
   "id": "b23acf2f-b182-4633-b441-8865cdb27a0d",
   "metadata": {},
   "source": [
    "In this section, I will first create two subset dataframes: **weekly_category_performance** and **average_category_performance**. Then, I will plot side-by-side visualizations to compare category performance in terms of sales revenue and units sold.\n",
    "\n",
    "* `weekly_category_performance`: Category performance for each week.\n",
    "* `average_category_performance`: Average category performance (weekly)."
   ]
  },
  {
   "cell_type": "markdown",
   "id": "ac4a3050-77a2-4aa4-9c11-27a22e9e8914",
   "metadata": {},
   "source": [
    "<br></br>\n",
    "\n",
    "<br></br>"
   ]
  },
  {
   "cell_type": "markdown",
   "id": "e8f48834-08ba-40a2-8e65-021ad2ebbf34",
   "metadata": {},
   "source": [
    "**Create a New Subset Dataframe: `Weekly_category_performance`** <br>\n",
    "\n",
    "Here, I created a new subset dataframe called **weekly_category_performance** by aggregating `transaction_total`(s) and `transaction_qty` for each `category` on a weekly basis. This subset dataframe provides insights into the performance of each category over the 26-week period.."
   ]
  },
  {
   "cell_type": "code",
   "execution_count": 17,
   "id": "e61b0bdf-ad15-4fa3-9b61-3512a59f81e3",
   "metadata": {},
   "outputs": [
    {
     "name": "stdout",
     "output_type": "stream",
     "text": [
      "weekly_cate_performance Shape:  (233, 4) \n",
      "\n"
     ]
    },
    {
     "data": {
      "text/html": [
       "<div>\n",
       "<style scoped>\n",
       "    .dataframe tbody tr th:only-of-type {\n",
       "        vertical-align: middle;\n",
       "    }\n",
       "\n",
       "    .dataframe tbody tr th {\n",
       "        vertical-align: top;\n",
       "    }\n",
       "\n",
       "    .dataframe thead th {\n",
       "        text-align: right;\n",
       "    }\n",
       "</style>\n",
       "<table border=\"1\" class=\"dataframe\">\n",
       "  <thead>\n",
       "    <tr style=\"text-align: right;\">\n",
       "      <th></th>\n",
       "      <th>week</th>\n",
       "      <th>category</th>\n",
       "      <th>sales_revenue</th>\n",
       "      <th>units_sold</th>\n",
       "    </tr>\n",
       "  </thead>\n",
       "  <tbody>\n",
       "    <tr>\n",
       "      <th>0</th>\n",
       "      <td>2023-W01</td>\n",
       "      <td>Bakery</td>\n",
       "      <td>1876.00</td>\n",
       "      <td>528</td>\n",
       "    </tr>\n",
       "    <tr>\n",
       "      <th>1</th>\n",
       "      <td>2023-W02</td>\n",
       "      <td>Bakery</td>\n",
       "      <td>2387.04</td>\n",
       "      <td>664</td>\n",
       "    </tr>\n",
       "    <tr>\n",
       "      <th>2</th>\n",
       "      <td>2023-W03</td>\n",
       "      <td>Bakery</td>\n",
       "      <td>2358.75</td>\n",
       "      <td>670</td>\n",
       "    </tr>\n",
       "    <tr>\n",
       "      <th>3</th>\n",
       "      <td>2023-W04</td>\n",
       "      <td>Bakery</td>\n",
       "      <td>2034.05</td>\n",
       "      <td>580</td>\n",
       "    </tr>\n",
       "    <tr>\n",
       "      <th>4</th>\n",
       "      <td>2023-W05</td>\n",
       "      <td>Bakery</td>\n",
       "      <td>2057.41</td>\n",
       "      <td>582</td>\n",
       "    </tr>\n",
       "  </tbody>\n",
       "</table>\n",
       "</div>"
      ],
      "text/plain": [
       "       week category  sales_revenue  units_sold\n",
       "0  2023-W01   Bakery        1876.00         528\n",
       "1  2023-W02   Bakery        2387.04         664\n",
       "2  2023-W03   Bakery        2358.75         670\n",
       "3  2023-W04   Bakery        2034.05         580\n",
       "4  2023-W05   Bakery        2057.41         582"
      ]
     },
     "execution_count": 17,
     "metadata": {},
     "output_type": "execute_result"
    }
   ],
   "source": [
    "# Subset a weekly categories perfomance df using .groupby( )\n",
    "weekly_category_performance = coffee_df.groupby(['week','product_category']).agg({'transaction_total':['sum'], \n",
    "                                                                              'transaction_qty':['sum']}).reset_index()\n",
    "\n",
    "# Rename each columns in the new df\n",
    "weekly_category_performance.columns = ['week', 'category', 'sales_revenue', 'units_sold'] \n",
    "\n",
    "\n",
    "# Sort df by 'category' and then by 'week' in ascending order \n",
    "weekly_category_performance = weekly_category_performance.sort_values(by=['category','week'], ascending=True).reset_index(drop=True)\n",
    "\n",
    "\n",
    "# print the shape of the new df\n",
    "print('weekly_cate_performance Shape: ', weekly_category_performance.shape, '\\n')\n",
    "\n",
    "\n",
    "# Show first 3 rows \n",
    "weekly_category_performance.head(5)"
   ]
  },
  {
   "cell_type": "markdown",
   "id": "35e3f376-6ef7-4a00-8303-6ce6905299ae",
   "metadata": {},
   "source": [
    "<br></br>\n",
    "\n",
    "<br></br>"
   ]
  },
  {
   "cell_type": "markdown",
   "id": "62d7fe39-dceb-4eb2-b6d0-fae770d525a0",
   "metadata": {},
   "source": [
    "**Create a New Subset Dataframe:** <br>\n",
    "\n",
    "This **average_category_performance** subset dataset captures the Average Category Performance (week)."
   ]
  },
  {
   "cell_type": "code",
   "execution_count": 18,
   "id": "e637d4b6-42dc-4a6f-becb-5e1c79588c55",
   "metadata": {},
   "outputs": [
    {
     "data": {
      "text/html": [
       "<div>\n",
       "<style scoped>\n",
       "    .dataframe tbody tr th:only-of-type {\n",
       "        vertical-align: middle;\n",
       "    }\n",
       "\n",
       "    .dataframe tbody tr th {\n",
       "        vertical-align: top;\n",
       "    }\n",
       "\n",
       "    .dataframe thead th {\n",
       "        text-align: right;\n",
       "    }\n",
       "</style>\n",
       "<table border=\"1\" class=\"dataframe\">\n",
       "  <thead>\n",
       "    <tr style=\"text-align: right;\">\n",
       "      <th></th>\n",
       "      <th>category</th>\n",
       "      <th>sales_revenue</th>\n",
       "      <th>units_sold</th>\n",
       "    </tr>\n",
       "  </thead>\n",
       "  <tbody>\n",
       "    <tr>\n",
       "      <th>0</th>\n",
       "      <td>Bakery</td>\n",
       "      <td>3165.986154</td>\n",
       "      <td>892.846154</td>\n",
       "    </tr>\n",
       "    <tr>\n",
       "      <th>1</th>\n",
       "      <td>Branded</td>\n",
       "      <td>544.280000</td>\n",
       "      <td>31.040000</td>\n",
       "    </tr>\n",
       "    <tr>\n",
       "      <th>2</th>\n",
       "      <td>Coffee</td>\n",
       "      <td>10382.786538</td>\n",
       "      <td>3432.692308</td>\n",
       "    </tr>\n",
       "    <tr>\n",
       "      <th>3</th>\n",
       "      <td>Coffee beans</td>\n",
       "      <td>1541.740385</td>\n",
       "      <td>70.307692</td>\n",
       "    </tr>\n",
       "    <tr>\n",
       "      <th>4</th>\n",
       "      <td>Drinking Chocolate</td>\n",
       "      <td>2785.230769</td>\n",
       "      <td>671.423077</td>\n",
       "    </tr>\n",
       "    <tr>\n",
       "      <th>5</th>\n",
       "      <td>Flavours</td>\n",
       "      <td>323.415385</td>\n",
       "      <td>404.269231</td>\n",
       "    </tr>\n",
       "    <tr>\n",
       "      <th>6</th>\n",
       "      <td>Loose Tea</td>\n",
       "      <td>431.292308</td>\n",
       "      <td>46.538462</td>\n",
       "    </tr>\n",
       "    <tr>\n",
       "      <th>7</th>\n",
       "      <td>Packaged Chocolate</td>\n",
       "      <td>169.524615</td>\n",
       "      <td>18.730769</td>\n",
       "    </tr>\n",
       "    <tr>\n",
       "      <th>8</th>\n",
       "      <td>Tea</td>\n",
       "      <td>7554.075000</td>\n",
       "      <td>2682.192308</td>\n",
       "    </tr>\n",
       "  </tbody>\n",
       "</table>\n",
       "</div>"
      ],
      "text/plain": [
       "             category  sales_revenue   units_sold\n",
       "0              Bakery    3165.986154   892.846154\n",
       "1             Branded     544.280000    31.040000\n",
       "2              Coffee   10382.786538  3432.692308\n",
       "3        Coffee beans    1541.740385    70.307692\n",
       "4  Drinking Chocolate    2785.230769   671.423077\n",
       "5            Flavours     323.415385   404.269231\n",
       "6           Loose Tea     431.292308    46.538462\n",
       "7  Packaged Chocolate     169.524615    18.730769\n",
       "8                 Tea    7554.075000  2682.192308"
      ]
     },
     "execution_count": 18,
     "metadata": {},
     "output_type": "execute_result"
    }
   ],
   "source": [
    "# Calculate the average of transaction_total (sales revenue) , transaction_qty (units sold) for each category\n",
    "average_category_performance = weekly_category_performance.groupby(['category']).agg({'sales_revenue':'mean', 'units_sold':'mean'}).reset_index()\n",
    "\n",
    "\n",
    "# Rename the columns\n",
    "average_category_performance.columns = ['category', 'sales_revenue', 'units_sold']\n",
    "\n",
    "\n",
    "# Display the new subset df \n",
    "average_category_performance"
   ]
  },
  {
   "cell_type": "markdown",
   "id": "673ae344-b76c-467a-926a-62592542b779",
   "metadata": {},
   "source": [
    "<br></br>\n",
    "\n",
    "<br></br>"
   ]
  },
  {
   "cell_type": "markdown",
   "id": "fd157ce5-0348-4c15-a2fb-77fc8a2e3a3d",
   "metadata": {},
   "source": [
    "**Sales by Category**"
   ]
  },
  {
   "cell_type": "code",
   "execution_count": 19,
   "id": "7a5ba487-9ecc-4894-be33-1621eace16bd",
   "metadata": {},
   "outputs": [
    {
     "data": {
      "image/png": "[encoded data removed]",
      "text/plain": [
       "<Figure size 1400x500 with 2 Axes>"
      ]
     },
     "metadata": {},
     "output_type": "display_data"
    }
   ],
   "source": [
    "# Creat subplots\n",
    "fig, axes = plt.subplots(1,2, figsize=(14,5))\n",
    "\n",
    "# A Boxplot on sales revenue by category\n",
    "sns.boxplot(data=weekly_category_performance, x='sales_revenue', y='category', hue='category', showfliers=False, ax=axes[0])\n",
    "axes[0].set_title('Figure 2.1    Boxplot: Sales by Category Across 26 Weeks')\n",
    "axes[0].set_xlabel('Sales')\n",
    "axes[0].set_ylabel('Category')\n",
    "\n",
    "\n",
    "# A Barplot on average sales by category\n",
    "sns.barplot(data=average_category_performance, x='sales_revenue', y='category', hue='category', ax=axes[1])\n",
    "axes[1].set_title('Figure 2.2     Barplot: Average Sales by Category (Week)')\n",
    "axes[1].set_xlabel('Sales')\n",
    "axes[1].set_ylabel('Category')\n",
    "\n",
    "\n",
    "plt.tight_layout()\n",
    "plt.show()"
   ]
  },
  {
   "cell_type": "markdown",
   "id": "bbdf953c-fbd7-4f7e-9ffc-642c4a0b02bb",
   "metadata": {},
   "source": [
    "***Figure 2.1*** <br>\n",
    "\n",
    "The boxplot illustrates the distribution of weekly sales revenues for each category over 26 weeks. The highest weekly coffee `sales` revenue is approximately `$16,000`, while the lowest is around `$7,000`. **The right-skewness of the boxplot suggests that**, for most categories, the majority of weekly sales fall below the average sales per week, indicating that higher sales values are less frequent.\n",
    "\n",
    "<br>\n",
    "\n",
    "***Figure 2.2*** <br>\n",
    "\n",
    "Based on the Barplot, coffee `sales` are the primary source of sales revenue, with an average weekly sales revenue of approximately `$10,500`. Tea sales rank second, with an average weekly revenue of around `$7,500`. This suggests that coffee and tea are the top-performing categories, indicating their popularity among customers."
   ]
  },
  {
   "cell_type": "markdown",
   "id": "80b4cba6-a647-40d5-81d6-404387cc5577",
   "metadata": {},
   "source": [
    "<br></br>\n",
    "\n",
    "<br></br>"
   ]
  },
  {
   "cell_type": "markdown",
   "id": "1541a88c-fa48-438c-8a8e-61abb7204b3e",
   "metadata": {},
   "source": [
    "**Units Sold by Category**"
   ]
  },
  {
   "cell_type": "code",
   "execution_count": 20,
   "id": "ac378627-7d10-4b54-8ace-033c441959fe",
   "metadata": {},
   "outputs": [
    {
     "data": {
      "image/png": "[encoded data removed]",
      "text/plain": [
       "<Figure size 1400x500 with 2 Axes>"
      ]
     },
     "metadata": {},
     "output_type": "display_data"
    }
   ],
   "source": [
    "# Creat subplots\n",
    "fig, axes = plt.subplots(1,2, figsize=(14,5))\n",
    "\n",
    "# \n",
    "sns.boxplot(data=weekly_category_performance, x='units_sold', y='category', hue='category', showfliers=False, ax=axes[0])\n",
    "axes[0].set_title('Figure 2.3    Boxplot: Units Sold by Category Across 26 Weeks')\n",
    "axes[0].set_xlabel('Units Sold')\n",
    "axes[0].set_ylabel('Category')\n",
    "\n",
    "\n",
    "# \n",
    "sns.barplot(data=average_category_performance, x='units_sold', y='category', hue='category', ax=axes[1])\n",
    "axes[1].set_title('Figure 2.4     Barplot: Average Units Sold by Categories (Week)')\n",
    "axes[1].set_xlabel('Units Sold')\n",
    "axes[1].set_ylabel('Category')\n",
    "\n",
    "\n",
    "\n",
    "\n",
    "plt.tight_layout()\n",
    "plt.show()"
   ]
  },
  {
   "cell_type": "markdown",
   "id": "603a49b1-2451-4375-b77e-ea60e0348b78",
   "metadata": {},
   "source": [
    "***Figure 2.3*** <br>\n",
    "\n",
    "The box plot displays the distribution of weekly units sold across each category over a 26-week period. The highest number of weekly units sold for coffee is approximately `5,200 units`, while the lowest is around `2,200 units`. The right-skewness of the boxplot indicates that, for most categories, the majority of weekly units sold are concentrated below their average, suggesting that higher sales occur less frequently.\n",
    "\n",
    "<br>\n",
    "\n",
    "***Figure 2.4*** <br>\n",
    "\n",
    "The bar plot highlights that `coffee` accounts for the largest proportion of product units sold, with an average weekly sales volume of approximately `3,400 units`. `Tea` ranks second, with an average weekly sales volume of around `2,700 units`. These findings suggest that `coffee` and `tea` are the top-performing categories, reflecting their strong popularity among customers."
   ]
  },
  {
   "cell_type": "markdown",
   "id": "98151f60-a079-4680-ab92-664c8e87c1d4",
   "metadata": {},
   "source": [
    "<br></br>\n",
    "\n",
    "<br></br>"
   ]
  },
  {
   "cell_type": "markdown",
   "id": "f3b7fd78-9b72-485b-8b3f-3ab4f72cd01c",
   "metadata": {},
   "source": [
    "<h1 style=\"color: white; padding: 10px; border-radius: 5px; background: linear-gradient(to right, #BBC4F9, #BBC4F9);\">Linear Regression Model Assumptions</h1>"
   ]
  },
  {
   "cell_type": "markdown",
   "id": "1708e3d0-aa76-4f55-8a4a-553aad4d684c",
   "metadata": {},
   "source": [
    "To develop a **Regression Model** for predicting total weekly sales across all three stores combined and to assess the impact of `temperature` on coffee `sales`, I faced a challenge: the dataset provided by the sales and marketing team missing data on `temperature`. After reaching out to sales and marketing team, it was confirmed that temperature data was not recorded during the transactions.\n",
    "\n",
    "<br>\n",
    "\n",
    "To address this, I retrieved average weekly **temperature data** for the New York City area from [**Weather Underground**](https://www.wunderground.com/about/data), covering the period **from 2023-01-01 to 2023-06-30**. This timeframe aligns perfectly with the coffee dataset. Since all three stores are located in New York City, using this [**Data**](https://www.wunderground.com/history/weekly/us/ny/new-york-city/KLGA/date/2023-6-30) as a proxy for temperature is both reasonable and consistent with the requirements of the analysis.\n",
    "\n",
    "\n",
    "<br>\n",
    "\n",
    "|**Variable**|**Description**|**Data Type**|\n",
    "|-|-|:-:|\n",
    "|avg_temp|Average weekly temperature in Fahrenheit.|`float`|\n",
    "\n",
    "\n",
    "<br></br>"
   ]
  },
  {
   "cell_type": "code",
   "execution_count": 21,
   "id": "63dff71c-dba6-44e6-9056-92793ec8617e",
   "metadata": {},
   "outputs": [
    {
     "data": {
      "text/html": [
       "<div>\n",
       "<style scoped>\n",
       "    .dataframe tbody tr th:only-of-type {\n",
       "        vertical-align: middle;\n",
       "    }\n",
       "\n",
       "    .dataframe tbody tr th {\n",
       "        vertical-align: top;\n",
       "    }\n",
       "\n",
       "    .dataframe thead th {\n",
       "        text-align: right;\n",
       "    }\n",
       "</style>\n",
       "<table border=\"1\" class=\"dataframe\">\n",
       "  <thead>\n",
       "    <tr style=\"text-align: right;\">\n",
       "      <th></th>\n",
       "      <th>avg_temp</th>\n",
       "    </tr>\n",
       "  </thead>\n",
       "  <tbody>\n",
       "    <tr>\n",
       "      <th>0</th>\n",
       "      <td>53.79</td>\n",
       "    </tr>\n",
       "    <tr>\n",
       "      <th>1</th>\n",
       "      <td>48.18</td>\n",
       "    </tr>\n",
       "    <tr>\n",
       "      <th>2</th>\n",
       "      <td>47.67</td>\n",
       "    </tr>\n",
       "  </tbody>\n",
       "</table>\n",
       "</div>"
      ],
      "text/plain": [
       "   avg_temp\n",
       "0     53.79\n",
       "1     48.18\n",
       "2     47.67"
      ]
     },
     "execution_count": 21,
     "metadata": {},
     "output_type": "execute_result"
    }
   ],
   "source": [
    "# Load the weekly temperature dataset \n",
    "temperature_wk = pd.read_csv('nyc_weekly_temp_f')\n",
    "temperature_wk.head(3)"
   ]
  },
  {
   "cell_type": "code",
   "execution_count": 22,
   "id": "555987ea-9f2f-479b-a2fb-cf1223afdc08",
   "metadata": {},
   "outputs": [
    {
     "data": {
      "text/html": [
       "<div>\n",
       "<style scoped>\n",
       "    .dataframe tbody tr th:only-of-type {\n",
       "        vertical-align: middle;\n",
       "    }\n",
       "\n",
       "    .dataframe tbody tr th {\n",
       "        vertical-align: top;\n",
       "    }\n",
       "\n",
       "    .dataframe thead tr th {\n",
       "        text-align: left;\n",
       "    }\n",
       "</style>\n",
       "<table border=\"1\" class=\"dataframe\">\n",
       "  <thead>\n",
       "    <tr>\n",
       "      <th></th>\n",
       "      <th>week</th>\n",
       "      <th>transaction_total</th>\n",
       "    </tr>\n",
       "    <tr>\n",
       "      <th></th>\n",
       "      <th></th>\n",
       "      <th>sum</th>\n",
       "    </tr>\n",
       "  </thead>\n",
       "  <tbody>\n",
       "    <tr>\n",
       "      <th>0</th>\n",
       "      <td>2023-W01</td>\n",
       "      <td>17009.00</td>\n",
       "    </tr>\n",
       "    <tr>\n",
       "      <th>1</th>\n",
       "      <td>2023-W02</td>\n",
       "      <td>18600.35</td>\n",
       "    </tr>\n",
       "    <tr>\n",
       "      <th>2</th>\n",
       "      <td>2023-W03</td>\n",
       "      <td>20618.89</td>\n",
       "    </tr>\n",
       "  </tbody>\n",
       "</table>\n",
       "</div>"
      ],
      "text/plain": [
       "       week transaction_total\n",
       "                          sum\n",
       "0  2023-W01          17009.00\n",
       "1  2023-W02          18600.35\n",
       "2  2023-W03          20618.89"
      ]
     },
     "execution_count": 22,
     "metadata": {},
     "output_type": "execute_result"
    }
   ],
   "source": [
    "# Creat a subset by aggergating the sum for sales by weeks\n",
    "coffee_wk = coffee_df.groupby(['week']).agg({'transaction_total':['sum']}).reset_index()\n",
    "coffee_wk.head(3)"
   ]
  },
  {
   "cell_type": "markdown",
   "id": "94a2e21a-6ab8-4318-982f-cc80fdbaee56",
   "metadata": {},
   "source": [
    "<br></br>\n",
    "\n",
    "<br></br>"
   ]
  },
  {
   "cell_type": "markdown",
   "id": "9fb6defa-115e-4378-a4bc-7c1a030d53aa",
   "metadata": {},
   "source": [
    "**Concatenate Dataframes & Feature Enginneering**\n",
    "\n",
    "For this step, I concatenated the **coffee_wk** and **temperature_wk** dataframes into a single dataframe and reassigned the result back to **coffee_wk**. Next, I renamed the columns as needed to ensure consistency. After that, I applied **Feature Transformation** by taking the logarithm of the `sales` and storing the result in a new column called `log_sales`."
   ]
  },
  {
   "cell_type": "code",
   "execution_count": 23,
   "id": "2536cb89-235a-4d43-b433-5c461f7c45f5",
   "metadata": {},
   "outputs": [
    {
     "name": "stdout",
     "output_type": "stream",
     "text": [
      "coffee_wk Shape:  (26, 4) \n",
      "\n"
     ]
    },
    {
     "data": {
      "text/html": [
       "<div>\n",
       "<style scoped>\n",
       "    .dataframe tbody tr th:only-of-type {\n",
       "        vertical-align: middle;\n",
       "    }\n",
       "\n",
       "    .dataframe tbody tr th {\n",
       "        vertical-align: top;\n",
       "    }\n",
       "\n",
       "    .dataframe thead th {\n",
       "        text-align: right;\n",
       "    }\n",
       "</style>\n",
       "<table border=\"1\" class=\"dataframe\">\n",
       "  <thead>\n",
       "    <tr style=\"text-align: right;\">\n",
       "      <th></th>\n",
       "      <th>week</th>\n",
       "      <th>sales</th>\n",
       "      <th>temperature</th>\n",
       "      <th>log_sales</th>\n",
       "    </tr>\n",
       "  </thead>\n",
       "  <tbody>\n",
       "    <tr>\n",
       "      <th>0</th>\n",
       "      <td>2023-W01</td>\n",
       "      <td>17009.00</td>\n",
       "      <td>53.79</td>\n",
       "      <td>9.741498</td>\n",
       "    </tr>\n",
       "    <tr>\n",
       "      <th>1</th>\n",
       "      <td>2023-W02</td>\n",
       "      <td>18600.35</td>\n",
       "      <td>48.18</td>\n",
       "      <td>9.830936</td>\n",
       "    </tr>\n",
       "    <tr>\n",
       "      <th>2</th>\n",
       "      <td>2023-W03</td>\n",
       "      <td>20618.89</td>\n",
       "      <td>47.67</td>\n",
       "      <td>9.933963</td>\n",
       "    </tr>\n",
       "  </tbody>\n",
       "</table>\n",
       "</div>"
      ],
      "text/plain": [
       "       week     sales  temperature  log_sales\n",
       "0  2023-W01  17009.00        53.79   9.741498\n",
       "1  2023-W02  18600.35        48.18   9.830936\n",
       "2  2023-W03  20618.89        47.67   9.933963"
      ]
     },
     "execution_count": 23,
     "metadata": {},
     "output_type": "execute_result"
    }
   ],
   "source": [
    "# Concat the temperature df and coffee_wk\n",
    "coffee_wk = pd.concat([coffee_wk, temperature_wk], axis=1)\n",
    "\n",
    "\n",
    "# Rename the columns\n",
    "coffee_wk.columns = ['week', 'sales', 'temperature']\n",
    "\n",
    "\n",
    "# Create a new column call `log_sales` by taking the logarithmn of sales column\n",
    "coffee_wk['log_sales'] = np.log(coffee_wk['sales'])\n",
    "\n",
    "\n",
    "# Print the shape of the new coffee_wk\n",
    "print('coffee_wk Shape: ', coffee_wk.shape, '\\n')\n",
    "\n",
    "# Display the first 3 rows of coffee_wk\n",
    "coffee_wk.head(3)"
   ]
  },
  {
   "cell_type": "markdown",
   "id": "6f455700-fb6b-4d72-82d3-3b5f84b51a57",
   "metadata": {},
   "source": [
    "<br>\n",
    "\n",
    "The purpose of applying a logarithmic transformation to the `sales` data is to address the highly skewed nature of economic variables. Taking the logarithm compresses large values and stretches smaller ones, which helps to approximate a normal distribution. Although the distribution of the dependent variable is typically not a concern for linear regression models, in this context where the dependent variable is skewed and the sample size is relatively small (n < 30), taking the logarithm of sales can stabilize variance and improve the interpretability of the model."
   ]
  },
  {
   "cell_type": "markdown",
   "id": "f201c0cb-6b96-4ab8-81c3-c01b168894cf",
   "metadata": {},
   "source": [
    "<br></br>\n",
    "\n",
    "<br></br>"
   ]
  },
  {
   "cell_type": "markdown",
   "id": "e6715397-5efa-4989-b5be-0780d13be775",
   "metadata": {},
   "source": [
    "**Check the Assumptions for Linear Regressions** <br>\n",
    "\n",
    "There are four assumptions we need to check for **Linear regression model**. The **Linearitry** and **Indepdent Observation** assumptions can be check before the model is build, but for **Normality** and **Homoscedasity** can only be checked after the model is build. Since the goal is to make a linear regression model that predict `sales` based on `temperature`. Our indepedent variable will be `temperature` and depedent variable will be `log_sales`.\n",
    "\n",
    "\n",
    "* Linearity\n",
    "* Normality\n",
    "* Independent Observation\n",
    "* Homoscedasticity"
   ]
  },
  {
   "cell_type": "markdown",
   "id": "6b970869-0ef4-4de6-98f8-a44db4ee81bb",
   "metadata": {},
   "source": [
    "<br></br>\n",
    "\n",
    "<br></br>"
   ]
  },
  {
   "cell_type": "markdown",
   "id": "454f1a42-c342-4ed0-acd0-3c5b38da099c",
   "metadata": {},
   "source": [
    "**Checking the `Linearity Assumption`**"
   ]
  },
  {
   "cell_type": "code",
   "execution_count": 24,
   "id": "9f4f7ba7-bd9d-4984-a1e2-2dbbba1310fc",
   "metadata": {},
   "outputs": [
    {
     "data": {
      "image/png": "[encoded data removed]",
      "text/plain": [
       "<Figure size 750x750 with 12 Axes>"
      ]
     },
     "metadata": {},
     "output_type": "display_data"
    }
   ],
   "source": [
    "# Creat a pairplot to Cheeck Linearty Assumption\n",
    "sns.pairplot(coffee_wk)\n",
    "plt.suptitle(\"Figure 3.1    Pairplot\", size=13)  \n",
    "plt.show()"
   ]
  },
  {
   "cell_type": "markdown",
   "id": "46c2c3c4-5c65-4c17-8f89-3b9849eb1b58",
   "metadata": {},
   "source": [
    "***Figure 3.1*** <br>\n",
    "\n",
    "From the pairplot, despite the small sample size, we observe a positive correlation between `log_sales` and `temperature`. Therefore, the **Linearity Assumption is satisfied**."
   ]
  },
  {
   "cell_type": "markdown",
   "id": "993346ac-7d83-4568-b2e3-bccffa1a06e1",
   "metadata": {},
   "source": [
    "<br></br>\n",
    "\n",
    "<br></br>"
   ]
  },
  {
   "cell_type": "markdown",
   "id": "16bee31d-337b-4fae-aa4f-c969bac2ffed",
   "metadata": {},
   "source": [
    "**Checking the `Independent Observation Assumption`** <br>\n",
    "\n",
    "For the independence assumption, our observations are recorded per transaction, meaning each transaction is independent and not influenced by any other.\n",
    "Therefore, the **Independent Observation Assumption is satisfied**."
   ]
  },
  {
   "cell_type": "markdown",
   "id": "0b09e717-53ca-4a37-8f8e-5048448cdb91",
   "metadata": {},
   "source": [
    "<br></br>\n",
    "\n",
    "<br></br>"
   ]
  },
  {
   "cell_type": "markdown",
   "id": "f5c65729-4cbf-4c9e-a1d7-63fdebe7b5ed",
   "metadata": {},
   "source": [
    "<h1 style=\"color: white; padding: 10px; border-radius: 5px; background: linear-gradient(to right, #BBC4F9, #BBC4F9);\">Building the Linear Regression Model</h1>"
   ]
  },
  {
   "cell_type": "code",
   "execution_count": 25,
   "id": "db618a55-92f0-4115-a683-f94714f9f9d6",
   "metadata": {},
   "outputs": [],
   "source": [
    "# Import the Operational package\n",
    "from sklearn.model_selection import train_test_split\n",
    "\n",
    "\n",
    "# Import the Statistical packages\n",
    "import statsmodels.api as sm\n",
    "import scipy.stats as stats\n",
    "from statsmodels.formula.api import ols"
   ]
  },
  {
   "cell_type": "markdown",
   "id": "5f394ecb-d21b-4d6e-9dc2-ecfd1ded822e",
   "metadata": {},
   "source": [
    "The `train_test_split( )` function from **scikit-learn**, which allows me to split the data into **training and testing datasets**. The training dataset is used to train the model, while the test dataseting is used to test the model's performance. Additionally, there is a validation dataset, which consists of unseen data used to evaluate how well the model performs on new, real-world scenarios.\n",
    "\n",
    "<br>\n",
    "\n",
    "The `ols` formula from **stasmodels**, allow me to use **Ordinary Least Squared (OLS)**, a method that minimizes the sum of squared residuals to estimate the parameters of the best-fit line in a **Linear Regression Model**."
   ]
  },
  {
   "cell_type": "markdown",
   "id": "8accf16f-2d1e-4fab-8377-4702de53aea2",
   "metadata": {},
   "source": [
    "<br></br>\n",
    "\n",
    "<br></br>"
   ]
  },
  {
   "cell_type": "markdown",
   "id": "00ddd7c9-13c5-4cbe-b723-04b313ad8560",
   "metadata": {},
   "source": [
    "**Split the Data**\n",
    "\n",
    "Splitting the data involves separating the dataframe into the dependent variable, `log_sales` (denoted as y), and the selected independent variable(s), in this case, `temperature` (denoted as X). \n",
    "\n",
    "After separating the data into **X** and **y**, use the `train_test_split()` function to divide **X** into `X_train` and `X_test` and **y** into `y_train` and `y_test`, reserving 20% of both **X** and **y** as test set."
   ]
  },
  {
   "cell_type": "code",
   "execution_count": 26,
   "id": "1d577297-1152-4741-83e7-d5648867f3e2",
   "metadata": {},
   "outputs": [],
   "source": [
    "# save a copy of coffee_wk as X\n",
    "X = coffee_wk.copy()\n",
    "X = X.drop(columns=['sales','log_sales'])      # Select indepedent variables or predictors we want for our model\n",
    "\n",
    "\n",
    "# Isolate the dependent variable / response variable\n",
    "y = coffee_wk['log_sales']\n",
    "\n",
    "\n",
    "# split the data into Train, Test \n",
    "X_train, X_test, y_train, y_test = train_test_split(X, y, test_size=.20, random_state=2025)"
   ]
  },
  {
   "cell_type": "markdown",
   "id": "30c98d1f-fc4e-4c69-a914-cd7eea845bac",
   "metadata": {},
   "source": [
    "<br></br>\n",
    "\n",
    "<br></br>"
   ]
  },
  {
   "cell_type": "markdown",
   "id": "3319244c-e4dd-49ba-9928-04e0d2fbc0ce",
   "metadata": {},
   "source": [
    "**Build the model then fit the model**"
   ]
  },
  {
   "cell_type": "code",
   "execution_count": 27,
   "id": "288d7a14-8a8c-4379-a865-36101fcd5c2e",
   "metadata": {},
   "outputs": [
    {
     "data": {
      "text/html": [
       "<table class=\"simpletable\">\n",
       "<caption>OLS Regression Results</caption>\n",
       "<tr>\n",
       "  <th>Dep. Variable:</th>        <td>log_sales</td>    <th>  R-squared:         </th> <td>   0.746</td>\n",
       "</tr>\n",
       "<tr>\n",
       "  <th>Model:</th>                   <td>OLS</td>       <th>  Adj. R-squared:    </th> <td>   0.732</td>\n",
       "</tr>\n",
       "<tr>\n",
       "  <th>Method:</th>             <td>Least Squares</td>  <th>  F-statistic:       </th> <td>   52.80</td>\n",
       "</tr>\n",
       "<tr>\n",
       "  <th>Date:</th>             <td>Sun, 19 Jan 2025</td> <th>  Prob (F-statistic):</th> <td>9.38e-07</td>\n",
       "</tr>\n",
       "<tr>\n",
       "  <th>Time:</th>                 <td>18:46:13</td>     <th>  Log-Likelihood:    </th> <td>  8.5121</td>\n",
       "</tr>\n",
       "<tr>\n",
       "  <th>No. Observations:</th>      <td>    20</td>      <th>  AIC:               </th> <td>  -13.02</td>\n",
       "</tr>\n",
       "<tr>\n",
       "  <th>Df Residuals:</th>          <td>    18</td>      <th>  BIC:               </th> <td>  -11.03</td>\n",
       "</tr>\n",
       "<tr>\n",
       "  <th>Df Model:</th>              <td>     1</td>      <th>                     </th>     <td> </td>   \n",
       "</tr>\n",
       "<tr>\n",
       "  <th>Covariance Type:</th>      <td>nonrobust</td>    <th>                     </th>     <td> </td>   \n",
       "</tr>\n",
       "</table>\n",
       "<table class=\"simpletable\">\n",
       "<tr>\n",
       "       <td></td>          <th>coef</th>     <th>std err</th>      <th>t</th>      <th>P>|t|</th>  <th>[0.025</th>    <th>0.975]</th>  \n",
       "</tr>\n",
       "<tr>\n",
       "  <th>Intercept</th>   <td>    8.7306</td> <td>    0.203</td> <td>   43.027</td> <td> 0.000</td> <td>    8.304</td> <td>    9.157</td>\n",
       "</tr>\n",
       "<tr>\n",
       "  <th>temperature</th> <td>    0.0235</td> <td>    0.003</td> <td>    7.266</td> <td> 0.000</td> <td>    0.017</td> <td>    0.030</td>\n",
       "</tr>\n",
       "</table>\n",
       "<table class=\"simpletable\">\n",
       "<tr>\n",
       "  <th>Omnibus:</th>       <td> 2.208</td> <th>  Durbin-Watson:     </th> <td>   2.232</td>\n",
       "</tr>\n",
       "<tr>\n",
       "  <th>Prob(Omnibus):</th> <td> 0.332</td> <th>  Jarque-Bera (JB):  </th> <td>   1.227</td>\n",
       "</tr>\n",
       "<tr>\n",
       "  <th>Skew:</th>          <td>-0.265</td> <th>  Prob(JB):          </th> <td>   0.542</td>\n",
       "</tr>\n",
       "<tr>\n",
       "  <th>Kurtosis:</th>      <td> 1.909</td> <th>  Cond. No.          </th> <td>    342.</td>\n",
       "</tr>\n",
       "</table><br/><br/>Notes:<br/>[1] Standard Errors assume that the covariance matrix of the errors is correctly specified."
      ],
      "text/latex": [
       "\\begin{center}\n",
       "\\begin{tabular}{lclc}\n",
       "\\toprule\n",
       "\\textbf{Dep. Variable:}    &    log\\_sales    & \\textbf{  R-squared:         } &     0.746   \\\\\n",
       "\\textbf{Model:}            &       OLS        & \\textbf{  Adj. R-squared:    } &     0.732   \\\\\n",
       "\\textbf{Method:}           &  Least Squares   & \\textbf{  F-statistic:       } &     52.80   \\\\\n",
       "\\textbf{Date:}             & Sun, 19 Jan 2025 & \\textbf{  Prob (F-statistic):} &  9.38e-07   \\\\\n",
       "\\textbf{Time:}             &     18:46:13     & \\textbf{  Log-Likelihood:    } &    8.5121   \\\\\n",
       "\\textbf{No. Observations:} &          20      & \\textbf{  AIC:               } &    -13.02   \\\\\n",
       "\\textbf{Df Residuals:}     &          18      & \\textbf{  BIC:               } &    -11.03   \\\\\n",
       "\\textbf{Df Model:}         &           1      & \\textbf{                     } &             \\\\\n",
       "\\textbf{Covariance Type:}  &    nonrobust     & \\textbf{                     } &             \\\\\n",
       "\\bottomrule\n",
       "\\end{tabular}\n",
       "\\begin{tabular}{lcccccc}\n",
       "                     & \\textbf{coef} & \\textbf{std err} & \\textbf{t} & \\textbf{P$> |$t$|$} & \\textbf{[0.025} & \\textbf{0.975]}  \\\\\n",
       "\\midrule\n",
       "\\textbf{Intercept}   &       8.7306  &        0.203     &    43.027  &         0.000        &        8.304    &        9.157     \\\\\n",
       "\\textbf{temperature} &       0.0235  &        0.003     &     7.266  &         0.000        &        0.017    &        0.030     \\\\\n",
       "\\bottomrule\n",
       "\\end{tabular}\n",
       "\\begin{tabular}{lclc}\n",
       "\\textbf{Omnibus:}       &  2.208 & \\textbf{  Durbin-Watson:     } &    2.232  \\\\\n",
       "\\textbf{Prob(Omnibus):} &  0.332 & \\textbf{  Jarque-Bera (JB):  } &    1.227  \\\\\n",
       "\\textbf{Skew:}          & -0.265 & \\textbf{  Prob(JB):          } &    0.542  \\\\\n",
       "\\textbf{Kurtosis:}      &  1.909 & \\textbf{  Cond. No.          } &     342.  \\\\\n",
       "\\bottomrule\n",
       "\\end{tabular}\n",
       "%\\caption{OLS Regression Results}\n",
       "\\end{center}\n",
       "\n",
       "Notes: \\newline\n",
       " [1] Standard Errors assume that the covariance matrix of the errors is correctly specified."
      ],
      "text/plain": [
       "<class 'statsmodels.iolib.summary.Summary'>\n",
       "\"\"\"\n",
       "                            OLS Regression Results                            \n",
       "==============================================================================\n",
       "Dep. Variable:              log_sales   R-squared:                       0.746\n",
       "Model:                            OLS   Adj. R-squared:                  0.732\n",
       "Method:                 Least Squares   F-statistic:                     52.80\n",
       "Date:                Sun, 19 Jan 2025   Prob (F-statistic):           9.38e-07\n",
       "Time:                        18:46:13   Log-Likelihood:                 8.5121\n",
       "No. Observations:                  20   AIC:                            -13.02\n",
       "Df Residuals:                      18   BIC:                            -11.03\n",
       "Df Model:                           1                                         \n",
       "Covariance Type:            nonrobust                                         \n",
       "===============================================================================\n",
       "                  coef    std err          t      P>|t|      [0.025      0.975]\n",
       "-------------------------------------------------------------------------------\n",
       "Intercept       8.7306      0.203     43.027      0.000       8.304       9.157\n",
       "temperature     0.0235      0.003      7.266      0.000       0.017       0.030\n",
       "==============================================================================\n",
       "Omnibus:                        2.208   Durbin-Watson:                   2.232\n",
       "Prob(Omnibus):                  0.332   Jarque-Bera (JB):                1.227\n",
       "Skew:                          -0.265   Prob(JB):                        0.542\n",
       "Kurtosis:                       1.909   Cond. No.                         342.\n",
       "==============================================================================\n",
       "\n",
       "Notes:\n",
       "[1] Standard Errors assume that the covariance matrix of the errors is correctly specified.\n",
       "\"\"\""
      ]
     },
     "execution_count": 27,
     "metadata": {},
     "output_type": "execute_result"
    }
   ],
   "source": [
    "# ols_data \n",
    "ols_data = pd.concat([X_train, y_train], axis=1)\n",
    "\n",
    "\n",
    "# ols_formula\n",
    "ols_formula = \"log_sales ~  temperature\"\n",
    "\n",
    "\n",
    "# Fit the model\n",
    "model = ols(data=ols_data, formula=ols_formula).fit()\n",
    "\n",
    "\n",
    "# Save the ols test result summary\n",
    "model_result = model.summary()\n",
    "\n",
    "\n",
    "# show test result summary\n",
    "model_result"
   ]
  },
  {
   "cell_type": "markdown",
   "id": "9bef18a0-63a8-48bf-929b-e66963807c8b",
   "metadata": {},
   "source": [
    "<br>\n",
    "\n",
    "***OLS Regression Results*** <br>\n",
    "\n",
    "The **P-value** for both `intercept` and the `temperature` coeffiecent are less the **standard significant level 0.05**, this indicates the p-value associateed with the coefficient estimates. With a 95% confidence interval around the coefficient estimates. The coefficent estimate for `temperature` is 0.0235 with a **P-value** of 0.000 and a **confidence interval** from 0.017 to 0.030.  \n",
    "\n",
    "<br>\n",
    "\n",
    "The **OLS model** returned a **R-squared** of 0.746. This means that `temperature` explains about 74.6% of the variance in `log_sales`. There is still 25.4% of the variance in `log_sales` remain unexplained by the model. This variance are likely due to other factors like store traffic, and etc.\n",
    "\n",
    "<br></br>\n",
    "\n",
    "\n",
    "**Log Sales Prediction Formula:**\n",
    "\n",
    "<br>\n",
    "\n",
    "$$\n",
    "\\huge Log \\ Sales = 8.7306 + 0.0235 * {\\beta}_{\\ temperature}\n",
    "$$\n",
    "\n",
    "<br>\n",
    "\n",
    "To interpret the formula: for every one-degree increase in Fahrenheit, `log_sales` increases by 0.0235. However, since `log_sales` is not directly interpretable or actionable for the sales and marketing team, we need to transform the `log_sales` formula back into the original `sales` scale.\n",
    "\n",
    "<br></br>\n",
    "\n",
    "<br></br>\n",
    "\n",
    "**Sales Prediction Formula:**\n",
    "\n",
    "<br>\n",
    "\n",
    "$$\n",
    "\\huge Sales = 6,181.69 * e^{ \\ 0.0235 \\ * {\\ \\beta}_{\\ temperature}}\n",
    "$$\n",
    "\n",
    "<br>\n",
    "\n",
    "After converting the `log_sales` formula back to the `sales` scale, and the interpretation is: **for every one-degree increase in Fahrenheit, `sales` increase by approximately 2.38%**.\n",
    "<br></br>"
   ]
  },
  {
   "cell_type": "markdown",
   "id": "a7a436b8-03cb-4243-a6ee-c7eb6d436d1b",
   "metadata": {},
   "source": [
    "<br></br>\n",
    "\n",
    "<br></br>"
   ]
  },
  {
   "cell_type": "markdown",
   "id": "3e84c78a-7fe0-443c-bceb-fde92cf87359",
   "metadata": {},
   "source": [
    "<h1 style=\"color: white; padding: 10px; border-radius: 5px; background: linear-gradient(to right, #BBC4F9, #BBC4F9);\">Normality | Shapiro-Wilk Test</h1>"
   ]
  },
  {
   "cell_type": "markdown",
   "id": "4d18c9e1-8511-4864-aaba-1f3759d57350",
   "metadata": {},
   "source": [
    "Now that the **Linear Regression Model** is built, we can check the **normality assumption**. First, we compute the **residuals**, then predict the **fitted values** using the **X_test** data. Fitted values, in other words, are the predictions made by our model based on the testing data `X_test`."
   ]
  },
  {
   "cell_type": "code",
   "execution_count": 28,
   "id": "9d0ca387-6af4-423a-867f-3dbdfca11309",
   "metadata": {},
   "outputs": [],
   "source": [
    "# Calculate the Residuals\n",
    "residuals = model.resid\n",
    "\n",
    "\n",
    "# Predict the log_sales with X_test data\n",
    "fitted_values = model.predict(X_test)"
   ]
  },
  {
   "cell_type": "markdown",
   "id": "550b6f45-e5d6-488c-85be-72a49e736dff",
   "metadata": {},
   "source": [
    "<br></br>"
   ]
  },
  {
   "cell_type": "markdown",
   "id": "c136ee6b-80bc-4278-98ed-7d03cd386b64",
   "metadata": {},
   "source": [
    "**Checking the `Normality Assumption` Using Visualizations** <br>\n",
    "\n",
    "The two plots that are used here are: histogram and quantile-quantile plot. both plots can help us assess whether or not the Normality assumption is satistified. histogram, qqplot can tell if the distribution of the residuals are normally distributed."
   ]
  },
  {
   "cell_type": "code",
   "execution_count": 29,
   "id": "aec02870-4983-4e08-a7e1-12f565a049aa",
   "metadata": {},
   "outputs": [
    {
     "data": {
      "image/png": "[encoded data removed]",
      "text/plain": [
       "<Figure size 1200x500 with 2 Axes>"
      ]
     },
     "metadata": {},
     "output_type": "display_data"
    }
   ],
   "source": [
    "# Subplot\n",
    "fig, axes = plt.subplots(1,2, figsize=(12,5))\n",
    "\n",
    "\n",
    "# Plot residuals distribution in a histogram\n",
    "sns.histplot(residuals, ax=axes[0])\n",
    "axes[0].set_title('Figure 4.1    Histogram: Distribution of Residuals')\n",
    "\n",
    "\n",
    "# Plot the Q-Q plot of the residuals\n",
    "sm.qqplot(residuals, line='s', ax=axes[1]);\n",
    "axes[1].set_title('Figure 4.2    Q-Q Plots for Residuals')\n",
    "\n",
    "\n",
    "plt.tight_layout()\n",
    "plt.show()"
   ]
  },
  {
   "cell_type": "code",
   "execution_count": 30,
   "id": "83266bda-3853-418d-a68b-424cd6dd7b0c",
   "metadata": {},
   "outputs": [
    {
     "data": {
      "text/plain": [
       "-0.2653959274265847"
      ]
     },
     "execution_count": 30,
     "metadata": {},
     "output_type": "execute_result"
    }
   ],
   "source": [
    "# Check the Skewness of residuals histogram\n",
    "stats.skew(residuals, axis=0, bias=True)"
   ]
  },
  {
   "cell_type": "markdown",
   "id": "261f0b65-0bb6-4eed-ba67-0d19929aac3a",
   "metadata": {},
   "source": [
    "<br>"
   ]
  },
  {
   "cell_type": "markdown",
   "id": "2d4f8cce-e670-4966-9214-8ee867e807fb",
   "metadata": {},
   "source": [
    "***Figure 4.1*** <br>\n",
    "\n",
    "The **histogram** approximately follows a normal distribution, though there appears to be a slight left skew. At this point, it's difficult to definitively conclude whether the residuals are normally distributed. However, using the `.skew( )` function from scipy.stats, the residuals show a **skewness score of -0.2093**. Typically, a skewness score between -0.5 and 0.5 is considered roughly a symmetric distribution.\n",
    "\n",
    "<br>\n",
    "\n",
    "***Figure 4.2*** <br>\n",
    "\n",
    "From the **QQ-plot**, we observe that the points are generally aligned with the reference line, though not perfectly. It is challenging to conclusively confirm the normality assumption based solely on the QQ-plot. Therefore, I will use the Shapiro-Wilk test to formally assess whether the residuals follow a normal distribution."
   ]
  },
  {
   "cell_type": "markdown",
   "id": "ff4370eb-61b3-4805-855d-182bfc57877a",
   "metadata": {},
   "source": [
    "<br></br>\n",
    "\n",
    "<br></br>"
   ]
  },
  {
   "cell_type": "markdown",
   "id": "eb4b6c9b-a434-494a-8bfa-2fe928f9b1ba",
   "metadata": {},
   "source": [
    "**Check the Normality Assumption with Shapiro-Wilk Test**\n",
    "\n",
    "The **Shapiro-Wilk Test** is best used to assess whether the data is normally distributed, particularly with a sample size of less than 50 (n < 50). It is based on the W-statistic. When the W-statistic is closer to 1, it indicates that the data is likely normally distributed. If a W-statistic significantly lower than 1 suggests that the data deviates from normality. Since our sample size is less than 30, it is appropriate to use the Shapiro-Wilk test to assess the **normality assumption**.\n",
    "\n",
    "<br></br>\n",
    "\n",
    "**Shapiro-Wilk Test**\n",
    "* **`Null Hypothesis`**: The residuals is normally distributed.\n",
    "* **`Alt  Hypothesis`**: The residuals is NOT normally distributed."
   ]
  },
  {
   "cell_type": "code",
   "execution_count": 31,
   "id": "2961c44b-484c-45d3-931d-eefc9a8fe1ac",
   "metadata": {},
   "outputs": [
    {
     "name": "stdout",
     "output_type": "stream",
     "text": [
      "W Statistics:  0.9410913491226995\n",
      "P-Value:       0.25142441051249753\n"
     ]
    }
   ],
   "source": [
    "# import the Shapiro-Wilk Test\n",
    "from scipy.stats import shapiro\n",
    "\n",
    "\n",
    "# Stanard Significant level\n",
    "significant_lv = 0.05\n",
    "\n",
    "\n",
    "# Save the results into stats and p_values\n",
    "w_stat, p_value = shapiro(residuals)\n",
    "\n",
    "\n",
    "# print W-statistic & P-value\n",
    "print('W Statistics: ', w_stat)\n",
    "print('P-Value:      ', p_value)"
   ]
  },
  {
   "cell_type": "code",
   "execution_count": 32,
   "id": "bfd105f8-a222-4c1e-a698-7aa6b0152cb2",
   "metadata": {},
   "outputs": [],
   "source": [
    "# Define a helper function to check hypothesis result\n",
    "def hypothesis_result(pvalue, signficant_level):\n",
    "\n",
    "    '''\n",
    "    Checks the result of a hypothesis test, by comparing the P-value & Significant Level.\n",
    "\n",
    "        Parameters: \n",
    "            pvalue            (num) : P-value of a hypothesis test\n",
    "            signfifcant_level (num) : significant level, (EX: 0.10, 0.05, 0.01) 0.05 is standard\n",
    "    '''\n",
    "    \n",
    "    if pvalue > signficant_level:\n",
    "        print('Fail to Reject the Null Hypothesis.')\n",
    "    else:\n",
    "        print('Reject the Null Hypothesis.')"
   ]
  },
  {
   "cell_type": "code",
   "execution_count": 33,
   "id": "8707fec3-3838-4682-bbcf-6d2eca9c072e",
   "metadata": {},
   "outputs": [
    {
     "name": "stdout",
     "output_type": "stream",
     "text": [
      "Fail to Reject the Null Hypothesis.\n"
     ]
    }
   ],
   "source": [
    "# Call the Hypothesis Result function \n",
    "hypothesis_result(p_value, significant_lv)"
   ]
  },
  {
   "cell_type": "markdown",
   "id": "d5b44582-6a88-4c05-b7fc-b7efcc2075f8",
   "metadata": {},
   "source": [
    "</br>\n",
    "\n",
    "***Shapiro-Wilk Test Results*** <br>\n",
    "\n",
    "Since the **Shapiro-Wilk Test** fails to reject the null hypothesis, it suggests that the residuals are normally distributed, **satisfying the normality assumption**."
   ]
  },
  {
   "cell_type": "markdown",
   "id": "ae67ef6f-c88e-4a5d-b881-ccc6ea893f0c",
   "metadata": {},
   "source": [
    "<br></br>\n",
    "\n",
    "<br></br>"
   ]
  },
  {
   "cell_type": "markdown",
   "id": "f33df3ef-e124-4034-8418-ffd601395c28",
   "metadata": {},
   "source": [
    "<h1 style=\"color: white; padding: 10px; border-radius: 5px; background: linear-gradient(to right, #BBC4F9, #BBC4F9);\">Homoscedacity | Breusch-Pagan Test</h1>"
   ]
  },
  {
   "cell_type": "markdown",
   "id": "adc7fac4-6612-4df0-a109-aa59d894fbf2",
   "metadata": {},
   "source": [
    "The **Breusch-Pagan test** is a statistical test used to detect heteroscedasticity in a linear regression model. It tests whether the variance of the residuals depends on the independent variables.\n",
    "\n",
    "\n",
    "* **`Null Hypothesis`**: The residuals exhibits homoscedasticity (constant variance is constant).\n",
    "* **`Alt  Hypothesis`** : The residuals exhibits heteroscedasticity (variance is not constant)."
   ]
  },
  {
   "cell_type": "code",
   "execution_count": 34,
   "id": "d5616593-5178-40d4-b609-fa456536f31d",
   "metadata": {},
   "outputs": [
    {
     "name": "stdout",
     "output_type": "stream",
     "text": [
      "Langrange Multiplier Statistic:  2.269997266729653\n",
      "P-Value  :  0.1319001349187839\n",
      "F-Value  :  2.3045653977514657\n",
      "F P-Value:  0.14636250715787902\n"
     ]
    }
   ],
   "source": [
    "# Import the Breusch-Pagan Test\n",
    "from statsmodels.stats.diagnostic import het_breuschpagan\n",
    "\n",
    "\n",
    "# Significant level\n",
    "significant_lv = 0.05\n",
    "\n",
    "\n",
    "# Breusch-Pagan Test\n",
    "lm_stat, p_value, f_value, f_p_value = het_breuschpagan(model.resid, model.model.exog)\n",
    "print('Langrange Multiplier Statistic: ', lm_stat)\n",
    "print('P-Value  : ', p_value)\n",
    "print('F-Value  : ' , f_value)\n",
    "print('F P-Value: ' , f_p_value)"
   ]
  },
  {
   "cell_type": "code",
   "execution_count": 35,
   "id": "dd44f8c4-f37f-4125-92e5-255e3b3c7862",
   "metadata": {},
   "outputs": [
    {
     "name": "stdout",
     "output_type": "stream",
     "text": [
      "Fail to Reject the Null Hypothesis.\n"
     ]
    }
   ],
   "source": [
    "# Call the hypothesis result function\n",
    "hypothesis_result(p_value, significant_lv)"
   ]
  },
  {
   "cell_type": "markdown",
   "id": "275adc2e-91b6-4a48-a8b1-0b5f428080bd",
   "metadata": {},
   "source": [
    "<br>\n",
    "\n",
    "***Breusch-Pagan Test Results*** <br>\n",
    "\n",
    "Since the **Breusch-Pagan Test** fails to reject the null hypothesis, it indicates that the residuals exhibit homoscedasticity (constant variance). This suggest that the residuals has a no pattern spread, meaning that thier variability remains consistant across the range of predicted values. Therefore, **Homoscedasticity Assumption is statistfied**.\n",
    "\n",
    "<br>\n",
    "\n",
    "Now that the **four assumptions for linear regression have been verified**, we can confidently proceed with interpreting the regression coefficients and summarizing the model results.\n",
    "\n",
    "<br></br>"
   ]
  },
  {
   "cell_type": "markdown",
   "id": "b41174f2-a222-4e6c-80c0-c76dba31d7f4",
   "metadata": {},
   "source": [
    "<h1 style=\"color: white; padding: 10px; border-radius: 5px; background: linear-gradient(to right, #BBC4F9, #BBC4F9);\">Summary</h1>"
   ]
  },
  {
   "cell_type": "markdown",
   "id": "f2614df1-1a6d-4cfc-98df-62cbb4ab123d",
   "metadata": {},
   "source": [
    "<div style=\"border: 4px solid; \n",
    "            padding: 20px; \n",
    "            border-radius: 10px;\n",
    "            border-image: linear-gradient(to right, #BBC4F9, #BBC4F9) 1;\">\n",
    "    <p>\n",
    "    <strong>Objectives 1:</strong> Quantify how temperature influences weekly coffee sales.\n",
    "    </p>\n",
    "    <ul style=\"list-style-type: disc; padding-left: 20px; margin-top: 10px;\">\n",
    "        <li style=\"margin-bottom: 10px;\">After a linear regression analysis, a significant positive correlation between temperature and weekly coffee sales was identified. According to the model's prediction, weekly coffee sales rise by approximately 2.38% for every 1°F increase in temperature. This finding highlights the impact of temperature on consumer purchasing behavior, providing actionable insights to optimize inventory management and develop targeted marketing strategies that respond to weather-related demand changes.</li>\n",
    "        <li style=\"margin-bottom: 10px;\"><strong>Sales Prediction Formula:</strong>\n",
    "$$\n",
    "\\huge Sales = 6,181.69 * e^{ \\ 0.0235 \\ * {\\ \\beta}_{\\ temperature}}\n",
    "$$</li>\n",
    "    </ul>\n",
    "        <br><br/>\n",
    "        <br><br/>\n",
    "    <p>\n",
    "    <strong>Objectives 2:</strong> Find weekly insights into transaction and product category performance.\n",
    "    </p>\n",
    "    <ul style=\"list-style-type: disc; padding-left: 20px; margin-top: 10px;\">\n",
    "        <li style=\"margin-bottom: 10px;\">In terms of category performance, coffee stands as the dominant revenue driver, followed closely by tea, with both categories significantly outperforming all other product lines. Bakery items contribute a strong revenue but remain secondary to coffee and tea. Drinking chocolate shows moderate success, generating more revenue than the lower-performing categories, such as branded products and coffee beans, which contribute minimally to the overall sales.</li>\n",
    "        <li style=\"margin-bottom: 10px;\"><strong>Recommendation:</strong><br>\n",
    "            <br>\n",
    "Focus on Coffee and Tea, given their dominant performance, there is significant potential to further enhance sales in these categories. Expanding the product range, introducing limited-time promotions, or offering seasonal varieties can help capitalize on their popularity, attract more customers, and drive sustained growth.</li>\n",
    "    </ul>\n",
    "    <br/>\n",
    "</div>"
   ]
  }
 ],
 "metadata": {
  "kernelspec": {
   "display_name": "Python 3 (ipykernel)",
   "language": "python",
   "name": "python3"
  },
  "language_info": {
   "codemirror_mode": {
    "name": "ipython",
    "version": 3
   },
   "file_extension": ".py",
   "mimetype": "text/x-python",
   "name": "python",
   "nbconvert_exporter": "python",
   "pygments_lexer": "ipython3",
   "version": "3.11.8"
  }
 },
 "nbformat": 4,
 "nbformat_minor": 5
}

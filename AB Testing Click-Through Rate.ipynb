{
 "cells": [
  {
   "cell_type": "markdown",
   "id": "32f0a8f0-621a-4ffb-a85d-0235452e74e0",
   "metadata": {},
   "source": [
    "# A|B Testing: Two Sample Proportion "
   ]
  },
  {
   "cell_type": "markdown",
   "id": "bbe48113-7bb6-4cbd-ae0f-140538c74938",
   "metadata": {},
   "source": [
    "<h1 style=\"color: white; padding: 10px; border-radius: 5px; background: linear-gradient(to right,  #BBC4F9, #BBC4F9);\">Abstract</h1>"
   ]
  },
  {
   "cell_type": "markdown",
   "id": "e9963c1c-6b4a-4ea1-953a-7f3a3955480b",
   "metadata": {},
   "source": [
    "<div style=\"border: 4px solid; \n",
    "            padding: 20px; \n",
    "            border-radius: 10px;\n",
    "            border-image: linear-gradient(to right, #BBC4F9, #BBC4F9) 1;\">\n",
    "    <p><strong>Context:</strong> <br></br>\n",
    "Assisted a company in evaluating the effectiveness of a new Call-to-Action button on their landing page, designed to increase visitor engagement. The primary change between the two versions lies in the Call-to Action (CTA) button text:    \n",
    "    <li>\n",
    "        New Version CTA: <strong>\"Secure Free Trial\"</strong>\n",
    "    </li>\n",
    "    <li>\n",
    "        Existing Version CTA: <strong>\"Enroll Now\"</strong>\n",
    "    </li>\n",
    "    <br>\n",
    "    </br>\n",
    "Collaborated with the company's subject matter expert, who defined a minimum detectable effect (MDE) of a 10% increase in engagement as the threshold for implementing the new button. The company has provided performance data for both versions and aims to determine which version drives higher visitor engagement. For the primary metric. The company will measure engagement based on Click-Through Rate (CTR), representing the proportion of visitors who click the Call-to Action (CTA) button. The analysis will inform a data-driven decision on whether to replace the existing CTA with the new version to optimize user engagement and improve visitor engagement.\n",
    "    </p>\n",
    "    <br>\n",
    "    <br/>\n",
    "    <p>\n",
    "    <strong>Objectives:</strong>\n",
    "    </p>\n",
    "    <ul style=\"list-style-type: disc; padding-left: 20px; margin-top: 10px;\">\n",
    "        <li style=\"margin-bottom: 10px;\">\n",
    " Evaluate if the new Call-to Action (CTA) button significantly improves Click-Through Rate (CTR) over the existing one, and determine if the difference is statistically significant or due to random variation.\n",
    "        </li>\n",
    "        <li style=\"margin-bottom: 10px;\">\n",
    "Assess the practical significance of implementing the new Call-to Action (CTA) button.\n",
    "        </li>\n",
    "    </ul>\n",
    "    <br/>\n",
    "</div>\n",
    "\n",
    "\n",
    "<br></br>\n",
    "\n",
    "<br></br>"
   ]
  },
  {
   "cell_type": "markdown",
   "id": "649298d6-a3cd-4b76-99dd-957f6f31c236",
   "metadata": {},
   "source": [
    "<h1 style=\"color: white; padding: 10px; border-radius: 5px; background: linear-gradient(to right, #BBC4F9, #BBC4F9);\">Data Dictionary</h1>"
   ]
  },
  {
   "cell_type": "markdown",
   "id": "e36d36c1-00d0-46a8-961b-904e165cfc2d",
   "metadata": {},
   "source": [
    "|Column|Description|Datatype|\n",
    "|-|-|-|\n",
    "|`user_id`|A 6 character string ID|`obj`|\n",
    "|`group`|What group the observation belongs to|`obj`|\n",
    "|`click`|Did the observation click? 1:(Yes) / 0:(No)|`bool`|\n",
    "|`date`|The date the visitor visited the website. YYYY-MM-DD|`datetime`|\n",
    "\n",
    "<br></br>\n",
    "\n",
    "<br></br>"
   ]
  },
  {
   "cell_type": "markdown",
   "id": "30cc3d2f-78e1-46b2-be3d-f2d988e88bd9",
   "metadata": {},
   "source": [
    "<h1 style=\"color: white; padding: 10px; border-radius: 5px; background: linear-gradient(to right, #BBC4F9, #BBC4F9);\">Load Data & Packages</h1>"
   ]
  },
  {
   "cell_type": "markdown",
   "id": "29e309fc-790c-4033-8579-97d6b28f2343",
   "metadata": {},
   "source": [
    "**Import Packages**"
   ]
  },
  {
   "cell_type": "code",
   "execution_count": 1,
   "id": "74cf3a33-7a30-421b-8426-ef1926165ee2",
   "metadata": {},
   "outputs": [],
   "source": [
    "# Operational Packages\n",
    "import pandas as pd\n",
    "import numpy as np\n",
    "\n",
    "# Visualization Packages\n",
    "import matplotlib.pyplot as plt\n",
    "import seaborn as sns\n",
    "\n",
    "\n",
    "# Statistical Package\n",
    "from scipy import stats\n",
    "from statsmodels.stats.power import NormalIndPower\n",
    "\n",
    "# Cohen' h effect size (unqual sample(S) variance)\n",
    "from statsmodels.stats.proportion import proportion_effectsize\n",
    "\n",
    "# Z-test for two tailed proportions\n",
    "from statsmodels.stats.proportion import proportions_ztest\n"
   ]
  },
  {
   "cell_type": "markdown",
   "id": "53d76c6a-b214-4557-9dbd-e8560cc15cb1",
   "metadata": {},
   "source": [
    "<br></br>\n",
    "\n",
    "\n",
    "**Load Dataset**"
   ]
  },
  {
   "cell_type": "code",
   "execution_count": 2,
   "id": "e3906919-7769-4e80-9957-b6a03c5b9e3a",
   "metadata": {},
   "outputs": [
    {
     "data": {
      "text/html": [
       "<div>\n",
       "<style scoped>\n",
       "    .dataframe tbody tr th:only-of-type {\n",
       "        vertical-align: middle;\n",
       "    }\n",
       "\n",
       "    .dataframe tbody tr th {\n",
       "        vertical-align: top;\n",
       "    }\n",
       "\n",
       "    .dataframe thead th {\n",
       "        text-align: right;\n",
       "    }\n",
       "</style>\n",
       "<table border=\"1\" class=\"dataframe\">\n",
       "  <thead>\n",
       "    <tr style=\"text-align: right;\">\n",
       "      <th></th>\n",
       "      <th>user_id</th>\n",
       "      <th>group</th>\n",
       "      <th>click</th>\n",
       "      <th>date</th>\n",
       "    </tr>\n",
       "  </thead>\n",
       "  <tbody>\n",
       "    <tr>\n",
       "      <th>0</th>\n",
       "      <td>8eb2c5</td>\n",
       "      <td>exp</td>\n",
       "      <td>1</td>\n",
       "      <td>2024-02-21</td>\n",
       "    </tr>\n",
       "    <tr>\n",
       "      <th>1</th>\n",
       "      <td>9bbefa</td>\n",
       "      <td>exp</td>\n",
       "      <td>0</td>\n",
       "      <td>2024-02-10</td>\n",
       "    </tr>\n",
       "    <tr>\n",
       "      <th>2</th>\n",
       "      <td>47b542</td>\n",
       "      <td>exp</td>\n",
       "      <td>1</td>\n",
       "      <td>2024-02-01</td>\n",
       "    </tr>\n",
       "    <tr>\n",
       "      <th>3</th>\n",
       "      <td>607951</td>\n",
       "      <td>exp</td>\n",
       "      <td>1</td>\n",
       "      <td>2024-02-11</td>\n",
       "    </tr>\n",
       "    <tr>\n",
       "      <th>4</th>\n",
       "      <td>7c6094</td>\n",
       "      <td>exp</td>\n",
       "      <td>1</td>\n",
       "      <td>2024-02-07</td>\n",
       "    </tr>\n",
       "  </tbody>\n",
       "</table>\n",
       "</div>"
      ],
      "text/plain": [
       "  user_id group  click        date\n",
       "0  8eb2c5   exp      1  2024-02-21\n",
       "1  9bbefa   exp      0  2024-02-10\n",
       "2  47b542   exp      1  2024-02-01\n",
       "3  607951   exp      1  2024-02-11\n",
       "4  7c6094   exp      1  2024-02-07"
      ]
     },
     "execution_count": 2,
     "metadata": {},
     "output_type": "execute_result"
    }
   ],
   "source": [
    "# Load in the dataset\n",
    "test_df = pd.read_csv('ab_testing_data.csv')\n",
    "test_df.head(5)"
   ]
  },
  {
   "cell_type": "markdown",
   "id": "9f8eb7e2-357b-4207-a15d-6aad035c98d8",
   "metadata": {},
   "source": [
    "<br></br>"
   ]
  },
  {
   "cell_type": "code",
   "execution_count": 3,
   "id": "ca800730-9477-4316-9423-2de64125bec5",
   "metadata": {},
   "outputs": [
    {
     "data": {
      "text/html": [
       "<div>\n",
       "<style scoped>\n",
       "    .dataframe tbody tr th:only-of-type {\n",
       "        vertical-align: middle;\n",
       "    }\n",
       "\n",
       "    .dataframe tbody tr th {\n",
       "        vertical-align: top;\n",
       "    }\n",
       "\n",
       "    .dataframe thead th {\n",
       "        text-align: right;\n",
       "    }\n",
       "</style>\n",
       "<table border=\"1\" class=\"dataframe\">\n",
       "  <thead>\n",
       "    <tr style=\"text-align: right;\">\n",
       "      <th></th>\n",
       "      <th>click</th>\n",
       "    </tr>\n",
       "  </thead>\n",
       "  <tbody>\n",
       "    <tr>\n",
       "      <th>count</th>\n",
       "      <td>20000.000000</td>\n",
       "    </tr>\n",
       "    <tr>\n",
       "      <th>mean</th>\n",
       "      <td>0.401400</td>\n",
       "    </tr>\n",
       "    <tr>\n",
       "      <th>std</th>\n",
       "      <td>0.490194</td>\n",
       "    </tr>\n",
       "    <tr>\n",
       "      <th>min</th>\n",
       "      <td>0.000000</td>\n",
       "    </tr>\n",
       "    <tr>\n",
       "      <th>25%</th>\n",
       "      <td>0.000000</td>\n",
       "    </tr>\n",
       "    <tr>\n",
       "      <th>50%</th>\n",
       "      <td>0.000000</td>\n",
       "    </tr>\n",
       "    <tr>\n",
       "      <th>75%</th>\n",
       "      <td>1.000000</td>\n",
       "    </tr>\n",
       "    <tr>\n",
       "      <th>max</th>\n",
       "      <td>1.000000</td>\n",
       "    </tr>\n",
       "  </tbody>\n",
       "</table>\n",
       "</div>"
      ],
      "text/plain": [
       "              click\n",
       "count  20000.000000\n",
       "mean       0.401400\n",
       "std        0.490194\n",
       "min        0.000000\n",
       "25%        0.000000\n",
       "50%        0.000000\n",
       "75%        1.000000\n",
       "max        1.000000"
      ]
     },
     "execution_count": 3,
     "metadata": {},
     "output_type": "execute_result"
    }
   ],
   "source": [
    "# check the basic descriptive statistics of numeric columns\n",
    "test_df.describe()"
   ]
  },
  {
   "cell_type": "markdown",
   "id": "2ecdb1c7-af32-4db3-bda4-ac2efb1e1da7",
   "metadata": {},
   "source": [
    "<br></br>"
   ]
  },
  {
   "cell_type": "code",
   "execution_count": 4,
   "id": "9ee23a51-4951-4e87-808a-e107f4f35b70",
   "metadata": {},
   "outputs": [
    {
     "name": "stdout",
     "output_type": "stream",
     "text": [
      "<class 'pandas.core.frame.DataFrame'>\n",
      "RangeIndex: 20000 entries, 0 to 19999\n",
      "Data columns (total 4 columns):\n",
      " #   Column   Non-Null Count  Dtype \n",
      "---  ------   --------------  ----- \n",
      " 0   user_id  20000 non-null  object\n",
      " 1   group    20000 non-null  object\n",
      " 2   click    20000 non-null  int64 \n",
      " 3   date     20000 non-null  object\n",
      "dtypes: int64(1), object(3)\n",
      "memory usage: 625.1+ KB\n"
     ]
    }
   ],
   "source": [
    "# Check datatypes and rows of the dataset\n",
    "test_df.info()"
   ]
  },
  {
   "cell_type": "markdown",
   "id": "c4a5429b-3afc-4b1a-acdf-dff6d3eee2ca",
   "metadata": {},
   "source": [
    "<br></br>\n",
    "\n",
    "<br></br>"
   ]
  },
  {
   "cell_type": "markdown",
   "id": "ce0cfbe4-8ff2-44be-81e7-556de96d35de",
   "metadata": {},
   "source": [
    "**Data Visualization**"
   ]
  },
  {
   "cell_type": "code",
   "execution_count": 5,
   "id": "4ab4a6ec-8146-480b-9e2c-1e4c353e5944",
   "metadata": {},
   "outputs": [],
   "source": [
    "# Custom Palette \n",
    "palette = {0: 'grey',   # 0 for No-Click\n",
    "           1: 'lightblue'}   # 1 for Click "
   ]
  },
  {
   "cell_type": "code",
   "execution_count": 6,
   "id": "d63b9d8f-dfd7-412d-901e-2e6bd2d64040",
   "metadata": {},
   "outputs": [
    {
     "data": {
      "image/png": "[encoded data removed]",
      "text/plain": [
       "<Figure size 1000x600 with 1 Axes>"
      ]
     },
     "metadata": {},
     "output_type": "display_data"
    }
   ],
   "source": [
    "# Plot a Countplot in seaborn \n",
    "plt.figure(figsize=(10,6))\n",
    "ax = sns.countplot(test_df, x='group', hue='click', palette=palette);\n",
    "plt.title('Click Distribution in Experimental & Control Groups')\n",
    "plt.xlabel('Group')\n",
    "plt.ylabel('Count')\n",
    "plt.legend(title='Click', labels=['No', 'Yes'])\n",
    "\n",
    "\n",
    "# Calcualte the percentage for annotate the bars\n",
    "group_counts = test_df.groupby(['group']).size()\n",
    "group_click_count = test_df.groupby(['group','click']).size().reset_index(name='count')\n",
    "\n",
    "\n",
    "# Annotate the graph with percnetage\n",
    "for p in ax.patches:\n",
    "    height = p.get_height()\n",
    "\n",
    "    # Skip bars with zero height\n",
    "    if height == 0:  \n",
    "        continue  \n",
    "\n",
    "    # Determine the group based on bar position\n",
    "    group = 'exp' if p.get_x() < 1 else 'con'  \n",
    "\n",
    "    # Determine click type using bar color\n",
    "    click = 1 if p.get_facecolor() == palette[1] else 0  \n",
    "\n",
    "    # Get total count for percentage calculation\n",
    "    total = group_counts.loc[group]\n",
    "    percentage = height / total * 100\n",
    "    \n",
    "    # Annotate the percentage on the bars\n",
    "    ax.text(p.get_x() + p.get_width() / 2., height + 50, f'{percentage:.1f}%', ha='center', color='black', fontsize=10)\n",
    "\n",
    "\n",
    "plt.tight_layout()\n",
    "plt.show()"
   ]
  },
  {
   "cell_type": "markdown",
   "id": "ccfd5a0c-51dc-42ee-9f24-5ce2ca5d6227",
   "metadata": {},
   "source": [
    "The **experimental group achieved a significantly higher click-through rate (CTR) of 60.4%**, compared to **19.9% in the control group** a difference of approximately 40 percentage points. This substantial uplift suggests a strong impact of the new CTA button. However, to ensure statistical reliability, we need to  validate the significance of this difference through hypothesis testing and analyze confidence intervals."
   ]
  },
  {
   "cell_type": "markdown",
   "id": "25722ae5-8489-47f8-b2ba-4fafd0483903",
   "metadata": {},
   "source": [
    "<br></br>\n",
    "\n",
    "<br></br>"
   ]
  },
  {
   "cell_type": "markdown",
   "id": "63d82e69-b4e4-4add-b609-92e8ea4d2e5e",
   "metadata": {},
   "source": [
    "<h1 style=\"color: white; padding: 10px; border-radius: 5px; background: linear-gradient(to right, #BBC4F9, #BBC4F9);\">Exploratory Data Analysis</h1>"
   ]
  },
  {
   "cell_type": "markdown",
   "id": "a2ebe8ca-8b79-4222-a0ba-5329e55924ef",
   "metadata": {},
   "source": [
    "**Compute the `sample size` per Group**"
   ]
  },
  {
   "cell_type": "code",
   "execution_count": 7,
   "id": "75b6d4ea-c589-4316-998a-677be6c8ba18",
   "metadata": {
    "scrolled": true
   },
   "outputs": [
    {
     "name": "stdout",
     "output_type": "stream",
     "text": [
      "(con) Sample size: 10000\n",
      "(exp) Sample size: 10000\n"
     ]
    }
   ],
   "source": [
    "sample_size_con = test_df['group'].value_counts().loc['con']\n",
    "sample_size_exp = test_df['group'].value_counts().loc['exp']\n",
    "\n",
    "\n",
    "print(f'(con) Sample size: {sample_size_con}')\n",
    "print(f'(exp) Sample size: {sample_size_exp}')"
   ]
  },
  {
   "cell_type": "markdown",
   "id": "7f867d47-0e7b-49f7-a5fd-1657ac5a7d51",
   "metadata": {},
   "source": [
    "<br></br>\n",
    "\n",
    "<br></br>"
   ]
  },
  {
   "cell_type": "markdown",
   "id": "a281677d-8c70-4ebe-a163-c9614c1347fd",
   "metadata": {},
   "source": [
    "**Calculating `number of clicks` per Group**"
   ]
  },
  {
   "cell_type": "code",
   "execution_count": 8,
   "id": "7114fa68-6757-4e68-8e2d-8fc1aefa6fa5",
   "metadata": {},
   "outputs": [
    {
     "name": "stdout",
     "output_type": "stream",
     "text": [
      "(con) Number of clicks: 1988\n",
      "(exp) Number of clicks: 6040\n"
     ]
    }
   ],
   "source": [
    "# Calculate the number of total clicks for both groups\n",
    "num_clicks_con = test_df.groupby(['group'])['click'].sum().loc['con'] # Since the click is either a 1 or 0 so the sum == sum of 1(s)\n",
    "num_clicks_exp = test_df.groupby(['group'])['click'].sum().loc['exp']\n",
    "\n",
    "\n",
    "# Number of Clicks in each group\n",
    "print(f'(con) Number of clicks: {num_clicks_con}')\n",
    "print(f'(exp) Number of clicks: {num_clicks_exp}')"
   ]
  },
  {
   "cell_type": "markdown",
   "id": "897a4c80-44f4-4627-b3d0-d3b22803631d",
   "metadata": {},
   "source": [
    "<br></br>\n",
    "\n",
    "<br></br>"
   ]
  },
  {
   "cell_type": "markdown",
   "id": "0e7a5147-8d75-47b4-b0ef-d80453bde8be",
   "metadata": {},
   "source": [
    "**Compute the `Sample Proportion` per Group**\n",
    "\n",
    "<br></br>\n",
    "\n",
    "$$\n",
    "\\huge \\widehat{P}_{\\ group} = {\\frac{X_{\\ group}}{N_{\\ group}}}\n",
    "$$\n",
    "\n",
    "<br>\n",
    "\n",
    "**Estimated Sample Proportion Formula:**\n",
    "* `P-hat`: Sample Proportion of a specific group.\n",
    "* `X`: Number of Favorable outcomes in the sample. `number of clicks`\n",
    "* `N`: Number of sampled user who vistied the websit. `sample size`  "
   ]
  },
  {
   "cell_type": "code",
   "execution_count": 9,
   "id": "5fd76097-bcf0-47ca-9637-7151385e4830",
   "metadata": {},
   "outputs": [
    {
     "name": "stdout",
     "output_type": "stream",
     "text": [
      "(con) Click Rate Proportion: 0.1988\n",
      "(exp) Click Rate Proportion: 0.6040\n"
     ]
    }
   ],
   "source": [
    "# Compute the proportion for both the control & experimental group\n",
    "sample_proportion_con = num_clicks_con / sample_size_con\n",
    "sample_proportion_exp = num_clicks_exp / sample_size_exp\n",
    "\n",
    "print(f'(con) Click Rate Proportion: {sample_proportion_con:.4f}')\n",
    "print(f'(exp) Click Rate Proportion: {sample_proportion_exp:.4f}')"
   ]
  },
  {
   "cell_type": "markdown",
   "id": "fec88bd1-ed33-43d8-839a-0bbc8074cbb8",
   "metadata": {},
   "source": [
    "<br></br>\n",
    "\n",
    "<br></br>"
   ]
  },
  {
   "cell_type": "markdown",
   "id": "f3d8f4e8-d80e-4ce1-982b-4ca1739d0b16",
   "metadata": {},
   "source": [
    "**Compute the `estimated pooled proportion`**\n",
    "\n",
    "<br></br>\n",
    "\n",
    "$$\n",
    "\\huge \\widehat{P}_{\\ pooled} = {\\frac{X_{ \\ con} \\ + \\  X_{ \\ exp} }{N_{\\ con} + N_{\\ exp}}}\n",
    "$$\n",
    "\n",
    "<br>\n",
    "\n",
    "**Estimated Pooled Proportion Formula:**\n",
    "* `P-hat_(pooled)`:  Pooled Proportion.\n",
    "* `X_con`: Number of Clicks in the Control Group.\n",
    "* `X_exp`: Number of Clicks in the Experimental Group.\n",
    "* `N_con`: Number of sampled user who vistied the website with the existing CTA button.  \n",
    "* `N_exp`: Number of sampled user who vistied the website with the new CTA button.  "
   ]
  },
  {
   "cell_type": "code",
   "execution_count": 10,
   "id": "6149568e-5066-43e2-935e-0a60f8570fea",
   "metadata": {},
   "outputs": [
    {
     "name": "stdout",
     "output_type": "stream",
     "text": [
      "Pooled Proportion: 0.4014\n"
     ]
    }
   ],
   "source": [
    "# Pooled Proportion.  A.K.A pooled success probability.\n",
    "pooled_proportion = (num_clicks_con + num_clicks_exp) / (sample_size_con + sample_size_exp)\n",
    "print(f'Pooled Proportion: {pooled_proportion}')"
   ]
  },
  {
   "cell_type": "markdown",
   "id": "3d6d2277-e891-4110-b4c1-2559eee8bbc1",
   "metadata": {},
   "source": [
    "<br></br>\n",
    "\n",
    "<br></br>"
   ]
  },
  {
   "cell_type": "markdown",
   "id": "9bfe10e3-f68b-4ed9-9492-8bcbd450297e",
   "metadata": {},
   "source": [
    "**Compute the `pooled variance`**\n",
    "\n",
    "<br></br>\n",
    "\n",
    "$$\n",
    "\\huge \\widehat{S}^2_{\\ pooled} = \\widehat{P}_{\\ pooled} \\ (1 - \\widehat{P}_{\\ pooled}) * ({\\frac{1}{N_{\\ con}}} + {\\frac{1}{N_{\\ exp}}})\n",
    "$$\n",
    "\n",
    "<br>\n",
    "\n",
    "**Pooled Variance Formula:**\n",
    "* `S-hat-Squared_(pooled)`:  Pooled Variance.\n",
    "* `P-hat_(pooled)`: Pooled Proportion = `0.4014`.\n",
    "* `N_con`: Number of sampled user who vistied the website from the Control Group = `10,000`.  \n",
    "* `N_exp`: Number of sampled user who vistied the website from the Experimental Group = `10,000`.  "
   ]
  },
  {
   "cell_type": "code",
   "execution_count": 11,
   "id": "5e0f66e1-71b9-4eee-a312-e34da485db7d",
   "metadata": {},
   "outputs": [
    {
     "name": "stdout",
     "output_type": "stream",
     "text": [
      "Pooled Variance: 4.8055608e-05\n"
     ]
    }
   ],
   "source": [
    "# Pooled variance\n",
    "pooled_variance = pooled_proportion * (1 - pooled_proportion) * (1/sample_size_con + 1/sample_size_exp)\n",
    "print(f'Pooled Variance: {pooled_variance}')"
   ]
  },
  {
   "cell_type": "markdown",
   "id": "7eaa01e6-6617-41b0-a1b5-6436ebbc1664",
   "metadata": {
    "jp-MarkdownHeadingCollapsed": true
   },
   "source": [
    "<br></br>\n",
    "\n",
    "<br></br>"
   ]
  },
  {
   "cell_type": "markdown",
   "id": "b16956f7-4fc4-4d9f-8c29-511492586219",
   "metadata": {},
   "source": [
    "**Compute the `pooled standard error`**\n",
    "\n",
    "<br></br>\n",
    "\n",
    "$$\n",
    "\\huge SE_{ \\ pooled} = \\sqrt{ \\widehat{S}^2_{\\ pooled}} = \\sqrt{\\widehat{P}_{\\ pooled} \\ (1 - \\widehat{P}_{\\ pooled}) * ({\\frac{1}{N_{\\ con}}} + {\\frac{1}{N_{\\ exp}}})}\n",
    "$$\n",
    "\n",
    "<br>\n",
    "\n",
    "**Pooled Standard Error Formula:**\n",
    "* `SE_(pooled)`:  pooled Standard Error.\n",
    "* `S-hat-Squared_(pooled)`:  Pooled Variance."
   ]
  },
  {
   "cell_type": "code",
   "execution_count": 12,
   "id": "aba3e75c-536b-4a82-a83b-7bb44119c870",
   "metadata": {},
   "outputs": [
    {
     "name": "stdout",
     "output_type": "stream",
     "text": [
      "Standard Error: 0.006932215230357465\n"
     ]
    }
   ],
   "source": [
    "# Standard error\n",
    "SE = np.sqrt(pooled_variance)\n",
    "print(f'Standard Error: {SE}')"
   ]
  },
  {
   "cell_type": "markdown",
   "id": "bb14a95e-08cf-4666-8dd5-8175eef7f68f",
   "metadata": {},
   "source": [
    "<br></br>\n",
    "\n",
    "<br></br>"
   ]
  },
  {
   "cell_type": "markdown",
   "id": "67d6e1c6-c565-4b9f-a206-9505518aa8cd",
   "metadata": {},
   "source": [
    "<h1 style=\"color: white; padding: 10px; border-radius: 5px; background: linear-gradient(to right, #BBC4F9, #BBC4F9);\">Hypothesis of A/B Testing</h1>"
   ]
  },
  {
   "cell_type": "markdown",
   "id": "ce672d6e-b0fe-453c-9909-611b55bef941",
   "metadata": {},
   "source": [
    "**A|B Testing Groups** <br>\n",
    "* **`Control Group`**: A simple random sample of 10,000 users exposed only to the Existing CTA button: **\"Enroll Now\"**.\n",
    "* **`Experimental Group`**: A simple random sample of 10,000 users exposed only to the New CTA button: **\"Secure Free Trial\"**.\n",
    "\n",
    "<br></br>\n",
    "\n",
    "**Minimum Detetectable Effect (MDE):** <br>\n",
    "<br>\n",
    "At least a 10% increase in Click Through Rate (CTR) with the new version compared to the existing version would be considered practically significant. This threshold represents a meaningful improvement in user engagement that would justify implementing the new CTA button.\n",
    "\n",
    "<br></br>\n",
    "\n",
    "**Statistical Hypothesis Testing:**\n",
    "* `H₀`: There is no statistical siginficant difference in the Click Through Rate between the existing and new version of the CTA button.\n",
    "* `H₁`: There is a statistical siginficant difference in the Click Through Rate between the existing and new version of the CTA button.\n",
    "\n",
    "\n",
    "<br></br>\n",
    "\n",
    "$$\n",
    "\\huge H_{0}: P_{con} = P_{exp}\n",
    "$$\n",
    "\n",
    "$$\n",
    "\\huge H_{1}: P_{con}  ≠ P_{exp}\n",
    "$$\n",
    "\n",
    "<br></br>\n",
    "\n",
    "<br></br>"
   ]
  },
  {
   "cell_type": "markdown",
   "id": "abaca646-5168-45fb-9e82-71064bcb00c0",
   "metadata": {},
   "source": [
    "<h1 style=\"color: white; padding: 10px; border-radius: 5px; background: linear-gradient(to right, #BBC4F9, #BBC4F9);\">A/B Test Design | Power Analysis</h1>"
   ]
  },
  {
   "cell_type": "markdown",
   "id": "b004f154-db94-43ce-ba71-0fe0d13a7471",
   "metadata": {},
   "source": [
    "**Define the Parameter(s) for Power Analysis**\n",
    "\n",
    "<br><br>\n",
    "\n",
    "|Parameter(s)|Used||\n",
    "|:-:|:-:|-|\n",
    "|`significance level (α)`|5% (0.05)|The significance level (α) represents the probability of rejecting the null hypothesis when it is actually true, leading to a Type I error (false positive). In other words, it is the probability of detecting a statistically significant effect when none exists. <br></br>A standard choice for hypothesis testing is 5% (α = 0.05).|\n",
    "|`Power` <br>`(1 - β)`|80% (0.80)|Power refers to the probability of correctly rejecting the null hypothesis, meaning it represents the likelihood of making the correct decision. <br>β is the probability of making a Type II error (failing to reject a false null hypothesis). <br></br>In A/B testing, a commonly used power = 80%.|\n",
    "|`Minimum Detectable Effect` <br>`(MDE)`|10% (0.10)|The Minimum Detectable Effect (MDE) is the smallest meaningful change that the test should be able to detect. <br></br>It is determined by subject matter experts and depends on business objectives.|\n",
    "|`Effect Size` <br>`(δ)`|Cohen’s h|A Threshold use to determine whether we should make the business decision or not after proven statistically significant. <br></br>Cohen’s h measures the difference between two proportions on an arcsine-transformed scale, making it useful for comparing proportions when their variances differ. <br></br> What is the differnce in the CTR that we NEED to detect, after we have proven the result is satistically signifcant. IN Order for us to say that we also have a Practical Significant so practically we are also comfortable making that business decision and then launching this new feature and chaning our landing page. that what is delta.|\n",
    "\n",
    "<br></br>\n",
    "\n",
    "<br></br>"
   ]
  },
  {
   "cell_type": "markdown",
   "id": "45a490fe-4354-4720-aa57-cf1256d475bc",
   "metadata": {},
   "source": [
    "**Set the Parameter(s): `α`,  `MDE` and `power`**"
   ]
  },
  {
   "cell_type": "code",
   "execution_count": 13,
   "id": "38c25fa3-f8b6-4d23-a80b-3ef4b81d9092",
   "metadata": {},
   "outputs": [],
   "source": [
    "# (Alpha) Significant level of 5%\n",
    "significant_level = 0.05\n",
    "\n",
    "\n",
    "# Minimum Detectable Effect 10% Increase \n",
    "min_detectable_effect = 0.10\n",
    "\n",
    "\n",
    "# (1 - Beta) Power of the Test\n",
    "power = 0.80 # the probability that we correctly detect the effect When theere is one"
   ]
  },
  {
   "cell_type": "markdown",
   "id": "955a8f4c-5a72-4106-b968-0866f0d049fd",
   "metadata": {},
   "source": [
    "<br></br>\n",
    "\n",
    "<br></br>\n",
    "\n",
    "**Compute the Cohen's h `effect size (δ)`**\n",
    "\n",
    "<br></br>\n",
    "\n",
    "$$\n",
    "\\huge h = 2 arcsin({\\sqrt{\\widehat{P}_{ \\ con}}}) - 2 arcsin({\\sqrt{\\widehat{P}_{ \\ exp}}})\n",
    "$$"
   ]
  },
  {
   "cell_type": "code",
   "execution_count": 14,
   "id": "f366bb6d-2aa1-4519-8f58-e3f6adcbf3f5",
   "metadata": {},
   "outputs": [
    {
     "name": "stdout",
     "output_type": "stream",
     "text": [
      "Effect Size: 0.2808\n"
     ]
    }
   ],
   "source": [
    "# (Delta) Calculate effect size (Cohen's h)\n",
    "effect_size = proportion_effectsize(sample_proportion_con, min_detectable_effect)\n",
    "print(f'Effect Size: {effect_size:.4f}')"
   ]
  },
  {
   "cell_type": "markdown",
   "id": "5fefdd2e-c2e8-40a1-a8c9-30a06c3bf9e8",
   "metadata": {},
   "source": [
    "<br></br>\n",
    "\n",
    "<br></br>\n",
    "\n",
    "**Find the `minimum sample` per group**"
   ]
  },
  {
   "cell_type": "code",
   "execution_count": 15,
   "id": "c2a97bb5-d8af-487c-9584-028e4e1dd9e4",
   "metadata": {},
   "outputs": [
    {
     "name": "stdout",
     "output_type": "stream",
     "text": [
      "Minimum Sample Size per group: 199\n"
     ]
    }
   ],
   "source": [
    "# Use NormalIndPower to calculate sample size for two-sided test\n",
    "power_analysis = NormalIndPower()\n",
    "min_sample_size = power_analysis.solve_power(effect_size=effect_size, alpha=significant_level, power=power, ratio=1)\n",
    "\n",
    "print(f\"Minimum Sample Size per group: {min_sample_size:.0f}\")"
   ]
  },
  {
   "cell_type": "markdown",
   "id": "6b14c27f-dbed-4277-9ff4-d3fb3adccf75",
   "metadata": {},
   "source": [
    "<br></br>\n",
    "\n",
    "<br></br>"
   ]
  },
  {
   "cell_type": "markdown",
   "id": "af021b58-01e1-4421-8000-f9ef8bd94231",
   "metadata": {},
   "source": [
    "<h1 style=\"color: white; padding: 10px; border-radius: 5px; background: linear-gradient(to right, #BBC4F9, #BBC4F9);\">A/B Test Design | Test Duration</h1>"
   ]
  },
  {
   "cell_type": "markdown",
   "id": "976f003c-acfb-4304-9b03-74ffc0318c11",
   "metadata": {},
   "source": [
    "**Try to Avoid when running A/B Test:** <br>\n",
    "\n",
    "<br></br>\n",
    "\n",
    "|Effects|Duration||\n",
    "|:-:|:-:|-|\n",
    "|`Novelty Effects`|less than 2 weeks|When the test duration is too short, people tend to react quickly to change|\n",
    "|`Maturation Effecs`|4+ weeks|When the test duration is too long, the higher the likelihood of external effect impacting the reactions of the users and possibly contaminating the test result|\n",
    "\n",
    "<br></br>\n",
    "\n",
    "To observe the **true treatment effect**, it is generally advisable to allow users enough time to adjust to new features or changes. Running the test long enough helps users **\"cool down\"** from their initial reactions, reducing the **Novelty Effect** and providing a more predictive and accurate measurement of long-term user behavior. However, extending the test too long may introduce external influences, so careful monitoring is essential to maintain result validity."
   ]
  },
  {
   "cell_type": "code",
   "execution_count": 16,
   "id": "3912836f-3e93-4df7-b5f8-396fa3b36677",
   "metadata": {},
   "outputs": [
    {
     "name": "stdout",
     "output_type": "stream",
     "text": [
      "Average Daily Visitors: 909\n",
      "0.44 Day(s)\n"
     ]
    }
   ],
   "source": [
    "# A/B Test Duration\n",
    "daily_vistiors_df = test_df.groupby(['date'])[['user_id']].count().reset_index()\n",
    "avg_daily_visitors = daily_vistiors_df['user_id'].mean()\n",
    "print(f'Average Daily Visitors: {avg_daily_visitors:.0f}')\n",
    "\n",
    "\n",
    "# Compute number of day(s) needed for the data collection\n",
    "days = ((2*min_sample_size) / avg_daily_visitors)\n",
    "print(f'{days:.2f} Day(s)')"
   ]
  },
  {
   "cell_type": "markdown",
   "id": "b4986c47-b68b-46dc-a22e-39ca0c4d7dc9",
   "metadata": {},
   "source": [
    "Determining the optimal **test duratio**n is a complex process, but a simplified approach based on this experiment's data can help simplify the process. With a **minimum required sample size** of 199 per group and an **average daily collection of 909 samples**, with data being gathered within 44% of a 24-hour period (approximately 10.5 hours), we can estimate the sample accumulation. By calculating 909 × 0.44 ≈ 400, we obtain around 200 samples per group per day, which closely aligns with the **minimum sample size requirement**. However, since data is collected in a relatively short period, it is highly susceptible to the **Novelty Effect**, where users may initially react differently due to the introduced change. Given that this dataset consists of synthetic data, I will conclude the analysis here for **Test Duration**."
   ]
  },
  {
   "cell_type": "markdown",
   "id": "b1ba3a24-b6e7-4066-9ab6-957c8b337958",
   "metadata": {},
   "source": [
    "<br></br>\n",
    "\n",
    "<br></br>"
   ]
  },
  {
   "cell_type": "markdown",
   "id": "19b52c5e-209c-4b96-80bc-cbea5e3f49d7",
   "metadata": {},
   "source": [
    "<h1 style=\"color: white; padding: 10px; border-radius: 5px; background: linear-gradient(to right, #BBC4F9, #BBC4F9);\">Two Sample Z-test for Proportions</h1>"
   ]
  },
  {
   "cell_type": "markdown",
   "id": "cfd50254-87d7-4f03-8867-2ac5cc60f09e",
   "metadata": {
    "jp-MarkdownHeadingCollapsed": true
   },
   "source": [
    "<div style=\"border: 4px solid; \n",
    "            padding: 20px; \n",
    "            border-radius: 10px;\n",
    "            border-image: linear-gradient(to right, #BBC4F9, #BBC4F9) 1;\">\n",
    "    <p><strong>Two Sample Z-Test:</strong> <br></br>\n",
    "The reason to use the Two Samples Z-Test (Proportrion) for this senario: first we have 2 sampled groups: <strong>Control</strong> and <strong>Experimental</strong> and we found the <strong>Click-Through Rate (CTR)</strong> for each group. Second we have a large sample size of 10,000 in each group. Since the T-test are useful for a sample size below 30, and T-test does not apply to proportions. therefore, I used the Two-sample Z-test for proportions for this senario. \n",
    "    </p>  \n",
    "</div>"
   ]
  },
  {
   "cell_type": "markdown",
   "id": "92e9eab4-0094-4535-b77b-fd2314cf6872",
   "metadata": {},
   "source": [
    "**Z-Statistic Formula:**\n",
    "\n",
    "<br></br>\n",
    "\n",
    "$$\n",
    "\\huge Z \\ Statistic  = {\\frac{\\widehat{P}_{ \\ con} - \\widehat{P}_{ \\ exp}}{SE_{\\ pooled}}}\n",
    "$$\n",
    "\n",
    "<br>\n",
    "\n",
    "* `SE_(pooled)`:  pooled Standard Error.\n",
    "* `sample_proportion_con`: Click Through Rate of the Control Group.\n",
    "* `sample_proportion_exp`: Click Through Rate of the Experimental Group."
   ]
  },
  {
   "cell_type": "code",
   "execution_count": 17,
   "id": "eeab1828-95ee-423e-a572-a5f88e83c50a",
   "metadata": {},
   "outputs": [
    {
     "name": "stdout",
     "output_type": "stream",
     "text": [
      "Z-Test Statistic for Two-sample: -58.451733902541505\n",
      "Z-Score from Standard Normal Distribution: 1.96\n"
     ]
    }
   ],
   "source": [
    "# Z-Test Statistics\n",
    "test_statistic = (sample_proportion_con - sample_proportion_exp) / SE\n",
    "print(f'Z-Test Statistic for Two-sample: {test_statistic}')\n",
    "\n",
    "\n",
    "# Z-Score or critical value\n",
    "Z_score = stats.norm.ppf(1- significant_level/2 )                         # percentage probability function .ppf( ) \n",
    "print(f'Z-Score from Standard Normal Distribution: {Z_score:.2f}')"
   ]
  },
  {
   "cell_type": "markdown",
   "id": "c86fd481-9464-43ef-8c3e-c9b878c767fb",
   "metadata": {},
   "source": [
    "<br>\n",
    "\n",
    "The **Z-Test statistic is negative**, meaning that the **Click Through Rate (CTR)** in the experimental group is larger than our control group. For our case this is a good indication that the new version has higher click rate proportion than the exsting.  \n",
    "\n",
    "<br></br>\n",
    "\n",
    "|Significant Level|Confidence Level|Z-Score|\n",
    "|-|-|-|\n",
    "|10%|90%|1.645|\n",
    "|5%|95%|1.96|\n",
    "|1%|99%|2.58|\n",
    "\n",
    "<br></br>\n",
    "\n",
    "<br></br>"
   ]
  },
  {
   "cell_type": "markdown",
   "id": "ce66d006-1f19-4be8-b7f6-7ba4b8acb3e3",
   "metadata": {},
   "source": [
    "**Calculate the `P-value`**"
   ]
  },
  {
   "cell_type": "markdown",
   "id": "0f0e0246-a27f-4bd6-aa09-9a2604155f20",
   "metadata": {},
   "source": [
    "The p-value represents the probability of obtaining a test statistic as extreme as, or more extreme than, the observed value purely due to random chance, assuming the null hypothesis is true. A high p-value suggests that any observed difference in click rates between the experimental and control groups is likely due to random variation rather than a true statistical difference."
   ]
  },
  {
   "cell_type": "code",
   "execution_count": 18,
   "id": "aa74a942-c680-46ac-a216-3d7d0b211944",
   "metadata": {},
   "outputs": [
    {
     "name": "stdout",
     "output_type": "stream",
     "text": [
      "P-Value: 0.0\n"
     ]
    }
   ],
   "source": [
    "# P-value\n",
    "p_value = 2 * stats.norm.sf(abs(test_statistic)) # times 2 for account for both tail of the distribution\n",
    "print(f'P-Value: {p_value}')"
   ]
  },
  {
   "cell_type": "markdown",
   "id": "8b8d7b11-fe50-4808-84b4-0d612a3d0dab",
   "metadata": {},
   "source": [
    "<br></br>\n",
    "\n",
    "<br></br>"
   ]
  },
  {
   "cell_type": "markdown",
   "id": "9ad0b7e3-8ec3-4951-86ac-f825694f5039",
   "metadata": {},
   "source": [
    "**Compute the `Z-test with statsmodels`**"
   ]
  },
  {
   "cell_type": "code",
   "execution_count": 19,
   "id": "77f99ba0-b5a8-4573-9723-3d32a15fbdc5",
   "metadata": {},
   "outputs": [
    {
     "name": "stdout",
     "output_type": "stream",
     "text": [
      "Z-statistic: -58.451733902541505 \n",
      "P-value: 0.0\n"
     ]
    }
   ],
   "source": [
    "# Proportions per group\n",
    "count = [num_clicks_con, num_clicks_exp]\n",
    "\n",
    "\n",
    "# Sample size per group \n",
    "nobs = [sample_size_con, sample_size_exp]\n",
    "\n",
    "\n",
    "# from statsmodels.stats.proportion import proportions_ztest\n",
    "z_stats, p_value = proportions_ztest(count, nobs)\n",
    "print('Z-statistic:', z_stats, '\\nP-value:',p_value)"
   ]
  },
  {
   "cell_type": "markdown",
   "id": "51aadb12-84b6-4a3f-ae71-0e154d5e75b2",
   "metadata": {},
   "source": [
    "<br></br>\n",
    "\n",
    "<br></br>"
   ]
  },
  {
   "cell_type": "markdown",
   "id": "78c63d05-0434-4ade-af29-f6a45f6c2296",
   "metadata": {},
   "source": [
    "<h1 style=\"color: white; padding: 10px; border-radius: 5px; background: linear-gradient(to right, #BBC4F9, #BBC4F9);\">Evaluate the Hypothesis Result</h1>"
   ]
  },
  {
   "cell_type": "code",
   "execution_count": 20,
   "id": "7537e65d-8d79-44cd-a695-a291f7d90757",
   "metadata": {},
   "outputs": [
    {
     "name": "stdout",
     "output_type": "stream",
     "text": [
      "Significant Level: 0.05\n"
     ]
    }
   ],
   "source": [
    "# recall the significant_level\n",
    "print(f'Significant Level: {significant_level}')"
   ]
  },
  {
   "cell_type": "code",
   "execution_count": 21,
   "id": "7b3aeec9-0943-464a-ae3a-b8dba3a3187e",
   "metadata": {},
   "outputs": [],
   "source": [
    "def hypothesis_result(p_value, significant_level):\n",
    "    '''\n",
    "    Evaluates the hypothesis test result by comparing the p-value with the significance level.\n",
    "       \n",
    "        Parameters:\n",
    "            p_value            (float): The calculated p-value from the test.\n",
    "            signficant_level   (float): The threshold for statistical significance.\n",
    "\n",
    "        Returns:\n",
    "            (string) A statement indicating whether we reject or fail to reject the null hypothesis.\n",
    "    '''\n",
    "\n",
    "    \n",
    "    # When P-value is greater than or euql to the significant level\n",
    "    if p_value >= significant_level:\n",
    "        print(f'The P-value of {p_value:.3f} greater than significant level of {significant_level}. We fail to reject the Null Hypothesis. \\n' \n",
    "              f'Which means the difference in click-through rates is not statistically significant. \\n',\n",
    "              f'This suggests that the observed difference is likely due to random chance.')\n",
    "\n",
    "    \n",
    "    # when P-value is less than the significant level\n",
    "    else:\n",
    "        print(f'The P-value of {p_value:.3f} is less than the significance level of {significant_level}. We reject the Null Hypothesis. \\n' \n",
    "              f'Which means the difference in click-through rates is statistically significant. \\n' \n",
    "              f'This suggests that the observed difference is unlikely due to random chance, meaning the change had a real impact.')"
   ]
  },
  {
   "cell_type": "code",
   "execution_count": 22,
   "id": "ad67ae3b-61b9-4791-b0df-1d3fdd6b20f8",
   "metadata": {},
   "outputs": [
    {
     "name": "stdout",
     "output_type": "stream",
     "text": [
      "The P-value of 0.000 is less than the significance level of 0.05. We reject the Null Hypothesis. \n",
      "Which means the difference in click-through rates is statistically significant. \n",
      "This suggests that the observed difference is unlikely due to random chance, meaning the change had a real impact.\n"
     ]
    }
   ],
   "source": [
    "# Call the hypothesis_result Helper function\n",
    "hypothesis_result(p_value, significant_level)    "
   ]
  },
  {
   "cell_type": "markdown",
   "id": "41dfe5d0-2ca6-495f-8dcb-342ad9cff9e2",
   "metadata": {},
   "source": [
    "<br></br>"
   ]
  },
  {
   "cell_type": "code",
   "execution_count": 23,
   "id": "ebbfdf6a-0740-4efb-a1f4-976ec3ac853e",
   "metadata": {},
   "outputs": [
    {
     "data": {
      "image/png": "[encoded data removed]",
      "text/plain": [
       "<Figure size 1400x500 with 1 Axes>"
      ]
     },
     "metadata": {},
     "output_type": "display_data"
    }
   ],
   "source": [
    "# Parameters on the standard normal distributions\n",
    "\n",
    "plt.figure(figsize=(14,5))\n",
    "\n",
    "mu = 0                                                  # Mean of the standard normal distribution\n",
    "sigma = 1                                               # Standard deviation of the standard normal distribution\n",
    "\n",
    "x = np.linspace(mu - 3*sigma, mu + 3*sigma)             # Generating the x values for the standard normal distribution\n",
    "y = stats.norm.pdf(x, mu, sigma)                        # Calculating the corresponding y values\n",
    "plt.plot(x,y, label='Standard Normal Distribution')\n",
    "\n",
    "\n",
    "# Highlight the rejection regions (areas beyond the critical Z-scores)\n",
    "plt.fill_between(x,y, where = (x > Z_score) | (x < -Z_score), color='red', alpha=0.8, label='Rejection Region')\n",
    "\n",
    "\n",
    "# Plot the critical Z-scores (thresholds for rejection region)\n",
    "plt.axvline(Z_score, color='blue', linestyle='dashed')\n",
    "plt.axvline(-Z_score, color='blue', linestyle='dashed')\n",
    "\n",
    "\n",
    "# Plot the test statistic\n",
    "plt.axvline(test_statistic, color='green', linestyle='dashed', label=f'Z-Test Statitisc: {test_statistic:.2f}')\n",
    "plt.legend()\n",
    "plt.show()"
   ]
  },
  {
   "cell_type": "markdown",
   "id": "36a98378-b75f-4ab8-a118-1eacac54dcc4",
   "metadata": {},
   "source": [
    "The green dashed line on the far left shows a Z-test statistic of -58.45, which is 58.45 standard deviations away from the standardized mean of zero. This indicates the likelihood of the difference being due to chance is extremely low, nearly zero. And we can reject the Null Hypothesis."
   ]
  },
  {
   "cell_type": "markdown",
   "id": "0219e0f8-a52c-49d4-8ba8-ff6b936dbb67",
   "metadata": {},
   "source": [
    "<br></br>\n",
    "\n",
    "<br></br>"
   ]
  },
  {
   "cell_type": "markdown",
   "id": "46bb30bb-38a3-42ef-99eb-1c1a569f15bc",
   "metadata": {},
   "source": [
    "**Compute the `Confidence Interval`**"
   ]
  },
  {
   "cell_type": "code",
   "execution_count": 24,
   "id": "2c7cb311-24f8-4f1d-a135-6283f1c21266",
   "metadata": {},
   "outputs": [
    {
     "name": "stdout",
     "output_type": "stream",
     "text": [
      "(Pooled) Standard Error: 0.006932215230357465\n"
     ]
    }
   ],
   "source": [
    "# recall the standard error \n",
    "print(f'(Pooled) Standard Error: {SE}')"
   ]
  },
  {
   "cell_type": "code",
   "execution_count": 25,
   "id": "d70e53b1-4b7f-4652-b366-cd4e337340e8",
   "metadata": {},
   "outputs": [],
   "source": [
    "# Define a helper function to calculate Confidence Interval\n",
    "def confidence_intervals(confidence_level, p1, p2, standard_error):\n",
    "    '''\n",
    "    Calculate the lower and upper bound confidence interval.\n",
    "\n",
    "        Parameters:\n",
    "          confidence_level (float): The confidence level (e.g., 0.95 for a 95% confidence interval)\n",
    "          p1               (float): Sample proportion from group 1 (control)\n",
    "          p2               (float): Sample proportion from group 2 (experimental)\n",
    "          standard_error   (float): Standard error of the difference between proportions (pooled)\n",
    "        \n",
    "        Returns:\n",
    "          conf_interval    (tuple): A tuple containing the lower and upper bounds of the confidence interval\n",
    "    '''\n",
    "\n",
    "    # Calculate the absolute difference between the sample proportions\n",
    "    proportion_diff = abs(p1-p2)\n",
    "\n",
    "    \n",
    "    # Calculate the confidence interval using the normal distribution\n",
    "    conf_interval = stats.norm.interval(confidence=confidence_level, loc=proportion_diff, scale=standard_error)\n",
    "    \n",
    "    return conf_interval"
   ]
  },
  {
   "cell_type": "code",
   "execution_count": 26,
   "id": "a1e8882c-b8d3-4407-9e32-666a828b1cc9",
   "metadata": {},
   "outputs": [
    {
     "name": "stdout",
     "output_type": "stream",
     "text": [
      "(0.39161310781541936, 0.41878689218458065) \n",
      "\n",
      "Lower Bound: 0.392 \n",
      "Upper Bound: 0.419\n"
     ]
    }
   ],
   "source": [
    "# Call the ` confidence_intervals( ) ` helper function \n",
    "CI_95 = confidence_intervals(0.95, sample_proportion_con, sample_proportion_exp, SE)\n",
    "\n",
    "\n",
    "# Print the confidence interval and bounds\n",
    "print(f'{CI_95} \\n')\n",
    "print(f'Lower Bound: {CI_95[0]:.3f}', f'\\nUpper Bound: {CI_95[1]:.3f}')"
   ]
  },
  {
   "cell_type": "markdown",
   "id": "7d7c7526-d52f-4f8f-8505-f489511a1b7c",
   "metadata": {},
   "source": [
    "<br></br>\n",
    "\n",
    "<br></br>"
   ]
  },
  {
   "cell_type": "markdown",
   "id": "d11b0616-5db4-42aa-8216-f348d15c1fe5",
   "metadata": {},
   "source": [
    "<h1 style=\"color: white; padding: 10px; border-radius: 5px; background: linear-gradient(to right, #BBC4F9, #BBC4F9);\">Evaluates Practical Significant Result</h1>"
   ]
  },
  {
   "cell_type": "markdown",
   "id": "1c67f3ab-64fd-41a0-9c27-1cb51f4051d3",
   "metadata": {},
   "source": [
    "<div style=\"border: 4px solid; \n",
    "            padding: 20px; \n",
    "            border-radius: 10px;\n",
    "            border-image: linear-gradient(to right, #BBC4F9, #BBC4F9) 1;\">\n",
    "    <p>\n",
    "After establishing statistical significance, we now assess practical significance. If the lower bound of the confidence interval meets or exceeds the effect size, and the effect size is greater than the Minimum Detectable Effect (MDE) of 10%, we can conclude that the result is practically significant and meaningful for implementation.\n",
    "    </p>\n",
    "    <br></br>\n",
    "    <p>\n",
    "    <strong>Lower Bound CI >= Effect Size</strong> <br> When the lower bound of the confidence interval (CI) is greater than or equal to the expected effect size, it indicates that even the most conservative estimate within our sample still meets or exceeds the expected effect size, providing stronger evidence for the observed effect. Therefore, we have a practical significance and the minimum difference that we will obtain is large enough for us to have a motivation to use the newer version.\n",
    "    </p>\n",
    "    <br></br>\n",
    "    <p>\n",
    "    <strong>Effect Size > MDE</strong> <br> According to the subject matter experts, the minimum detectable effect (MDE) for this business scenario is ≥ 10%. Our calculated Cohen's h effect size (proportion) is approximately 28%, indicating that the difference in magnitude between the new and existing CTA buttons is 28%. Since this effect size is greater than the 10% threshold, it meets the required minimum detectable effect.\n",
    "    </p>\n",
    "</div>\n",
    "\n",
    "<br></br>\n",
    "\n",
    "<br></br>"
   ]
  },
  {
   "cell_type": "markdown",
   "id": "1112f2e4-1852-431e-a089-10ee02525f03",
   "metadata": {},
   "source": [
    "**Evaluate `Practical Significant`**"
   ]
  },
  {
   "cell_type": "code",
   "execution_count": 27,
   "id": "2e62af7f-d17f-4c46-8372-8ef01ba9221e",
   "metadata": {},
   "outputs": [
    {
     "name": "stdout",
     "output_type": "stream",
     "text": [
      "Cohen's h Effect Size: 0.2808 \n",
      "\n",
      "Minimum Detactable Effct: 0.1000\n",
      "\n",
      "Confidence Interval: (0.39161310781541936, 0.41878689218458065)\n"
     ]
    }
   ],
   "source": [
    "# Recall the Effect Size (delta)\n",
    "print(f\"Cohen's h Effect Size: {effect_size:>.4f} \\n\")\n",
    "\n",
    "# Recall the Minimum Detactable Effct\n",
    "print(f'Minimum Detactable Effct: {min_detectable_effect:.4f}\\n')\n",
    "\n",
    "# Recall the Confidence Interval \n",
    "print(f\"Confidence Interval: {CI_95}\")"
   ]
  },
  {
   "cell_type": "code",
   "execution_count": 28,
   "id": "4cb9e186-1671-4a14-ad27-596916f1a1c5",
   "metadata": {},
   "outputs": [],
   "source": [
    "# Define a helper function to Evaluates practical significant\n",
    "def practical_result(min_detectable_effect, confidence_interval):\n",
    "\n",
    "    '''\n",
    "    Compare the Size Effect (delta) with the lower bound of the confidence interval to determine if the result is practically significant or not.\n",
    "\n",
    "        Parameters:\n",
    "            effect_size         (float): The observed effect size.\n",
    "            confidence_interval (tuple): A confidence interval represented as (lower_bound, upper_bound).\n",
    "\n",
    "        Returns:\n",
    "            (string): A string statement indicating whether there is practical significance or not. \n",
    "        \n",
    "    '''\n",
    "    \n",
    "    # extract the lower bound of the confidence interval\n",
    "    lower_interval = confidence_interval[0]\n",
    "\n",
    "\n",
    "    # when lower bound greater than or equal to the effect size\n",
    "    if lower_interval >= min_detectable_effect:\n",
    "       print(f\"Lower bound of the Confidence Interval {lower_interval:.3f}, which is greater than the Effect Size of {min_detectable_effect:.3f} \\n\" \n",
    "             f\"indicates that the observed effect is not only statistically significant but also practically meaningful. \\n\" \n",
    "             f\"This suggests that the new CTA button could lead to measurable and practical improvements.\")\n",
    "\n",
    "\n",
    "    # when lower bound less than the effect size\n",
    "    else:\n",
    "       print(f\"Lower bound of the Confidence Interval {lower_interval:.3f}, which is less than the Effect Size of {min_detectable_effect:.3f} \\n\" \n",
    "             f\"indicates that the observed effect is statistically significant but not practically meaningful. \\n\" \n",
    "             f\"This suggests that the new CTA button may have measurable effects, but they may not be practical nor worthwhile to implement.\")\n",
    "    "
   ]
  },
  {
   "cell_type": "code",
   "execution_count": 29,
   "id": "d76532f1-f0fa-4e34-93f9-cd0a6c6e69d4",
   "metadata": {},
   "outputs": [
    {
     "name": "stdout",
     "output_type": "stream",
     "text": [
      "Lower bound of the Confidence Interval 0.392, which is greater than the Effect Size of 0.100 \n",
      "indicates that the observed effect is not only statistically significant but also practically meaningful. \n",
      "This suggests that the new CTA button could lead to measurable and practical improvements.\n"
     ]
    }
   ],
   "source": [
    "# Call the ` practical_result( ) ` helper function \n",
    "practical_result(min_detectable_effect, CI_95)"
   ]
  },
  {
   "cell_type": "markdown",
   "id": "7efa5366-4872-46a5-bd76-018be0bda650",
   "metadata": {},
   "source": [
    "<br></br>\n",
    "\n",
    "<br></br>"
   ]
  },
  {
   "cell_type": "markdown",
   "id": "a2b4a420-1691-4e00-8ae0-dbdf2f3098b4",
   "metadata": {},
   "source": [
    "<h1 style=\"color: white; padding: 10px; border-radius: 5px; background: linear-gradient(to right, #BBC4F9, #BBC4F9);\">Summary</h1>"
   ]
  },
  {
   "cell_type": "markdown",
   "id": "7884df60-4bc3-4381-861e-67c0015493c5",
   "metadata": {},
   "source": [
    "<div style=\"border: 4px solid; \n",
    "            padding: 20px; \n",
    "            border-radius: 10px;\n",
    "            border-image: linear-gradient(to right, #BBC4F9, #BBC4F9) 1;\">\n",
    "    <p>\n",
    "    <strong>Objective 1:</strong> Evaluate if the new Call-to Action (CTA) button significantly improves Click-Through Rate (CTR) over the existing one, and determine if the difference is statistically significant or due to random variation. \n",
    "    </p>\n",
    "    <ul style=\"list-style-type: disc; padding-left: 20px; margin-top: 10px;\">\n",
    "        <li style=\"margin-bottom: 10px;\">\n",
    "Based on the Z-test (Proportions), the P-value of 0.000 is less than our Significant Level of 0.05. We reject the Null Hypothesis of <strong>H₀: \"There is no statistical siginficant difference in the Click Through Rate between the existing and new version of the CTA button.\"</strong> The results indicate that the observed difference in CTR is statistically significant, suggesting that the improvement is unlikely due to random variation. This finding implies that the new Call to Action (CTA) button has a genuine impact on customer engagement.\n",
    "        </li>\n",
    "    </ul>\n",
    "    <br></br>\n",
    "    <p>\n",
    "    <strong>Objective 2:</strong> Assess the practical significance of implementing the new Call to Action (CTA) button.\n",
    "    </p>\n",
    "    <ul style=\"list-style-type: disc; padding-left: 20px; margin-top: 10px;\">\n",
    "        <li style=\"margin-bottom: 10px;\">\n",
    "At a 95% confidence level, the confidence interval for the difference in Click-Through Rates (CTR) between the experimental and control groups is [0.3916, 0.4187]. The company's Minimum Detectable Effect (MDE) is set at 0.10, while the observed effect size, calculated using Cohen's h, is 0.2808.<br>      <br>\n",
    "    </br>\n",
    "The lower bound of the confidence interval (0.3916) represents the minimum estimated difference in Click-Through Rate between the two groups. The effect size quantifies the magnitude of the difference, offering insight into the practical significance of the result. Since the lower bound of the confidence interval exceeds the Minimum Detectable Effect (MDE), the results demonstrate that even the most conservative estimate is practically significant. Additionally, the observed effect size (0.2808) also surpasses the MDE, further validating that the new Call-to Action button has a meaningful impact, suggesting it is practical for implementation.\n",
    "        </li>\n",
    "        <br></br>\n",
    "        <li style=\"margin-bottom: 10px;\">\n",
    "<strong>Recommendation:</strong> <br></br> Based on both statistical and practical significance, it is recommended that the company confidently proceed with the implementation of the new Call-to-Action (CTA) button. The results consistently indicate that the new design outperforms the existing CTA button by at least 39.2% in driving higher click-through rates, aligning with the company’s business objectives and enhancing customer engagement.\n",
    "        </li>\n",
    "</div>"
   ]
  }
 ],
 "metadata": {
  "kernelspec": {
   "display_name": "Python 3 (ipykernel)",
   "language": "python",
   "name": "python3"
  },
  "language_info": {
   "codemirror_mode": {
    "name": "ipython",
    "version": 3
   },
   "file_extension": ".py",
   "mimetype": "text/x-python",
   "name": "python",
   "nbconvert_exporter": "python",
   "pygments_lexer": "ipython3",
   "version": "3.11.8"
  }
 },
 "nbformat": 4,
 "nbformat_minor": 5
}
